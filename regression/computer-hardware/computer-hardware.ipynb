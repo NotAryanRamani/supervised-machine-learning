{
 "cells": [
  {
   "cell_type": "markdown",
   "id": "00262518",
   "metadata": {},
   "source": [
    "# Computer Hardware Regression\n",
    "\n",
    "\n",
    "### Attribute Information:\n",
    "1. vendor name: Names of vendors of the hardware - 30 different values \n",
    "2. Model Name: many unique symbols\n",
    "3. MYCT: machine cycle time in nanoseconds (integer)\n",
    "4. MMIN: minimum main memory in kilobytes (integer)\n",
    "5. MMAX: maximum main memory in kilobytes (integer)\n",
    "6. CACH: cache memory in kilobytes (integer)\n",
    "7. CHMIN: minimum channels in units (integer)\n",
    "8. CHMAX: maximum channels in units (integer)\n",
    "9. PRP: published relative performance (integer)\n",
    "10. ERP: estimated relative performance from the original article (integer)\n",
    "\n",
    "### To Predict\n",
    "    ERP on basis on basis of 6 input features\n",
    "\n",
    "### Additional Info\n",
    "    There are no missing values in the data"
   ]
  },
  {
   "cell_type": "code",
   "execution_count": 2,
   "id": "27c1c9d6",
   "metadata": {},
   "outputs": [],
   "source": [
    "import pandas as pd\n",
    "import numpy as np\n",
    "import matplotlib.pyplot as plt\n",
    "import seaborn as sns"
   ]
  },
  {
   "cell_type": "code",
   "execution_count": 3,
   "id": "ed9879cc",
   "metadata": {},
   "outputs": [],
   "source": [
    "column_names = ['vendor','model', 'MYCT', 'MMIN', 'MMAX', 'CACH', 'CHMIN', 'CHMAX', 'PRP', 'ERP']"
   ]
  },
  {
   "cell_type": "code",
   "execution_count": 4,
   "id": "c448bec8",
   "metadata": {},
   "outputs": [],
   "source": [
    "df = pd.read_csv('machine.data', header=None, names=column_names)"
   ]
  },
  {
   "cell_type": "code",
   "execution_count": 5,
   "id": "dece3dda",
   "metadata": {},
   "outputs": [
    {
     "data": {
      "text/html": [
       "<div>\n",
       "<style scoped>\n",
       "    .dataframe tbody tr th:only-of-type {\n",
       "        vertical-align: middle;\n",
       "    }\n",
       "\n",
       "    .dataframe tbody tr th {\n",
       "        vertical-align: top;\n",
       "    }\n",
       "\n",
       "    .dataframe thead th {\n",
       "        text-align: right;\n",
       "    }\n",
       "</style>\n",
       "<table border=\"1\" class=\"dataframe\">\n",
       "  <thead>\n",
       "    <tr style=\"text-align: right;\">\n",
       "      <th></th>\n",
       "      <th>vendor</th>\n",
       "      <th>model</th>\n",
       "      <th>MYCT</th>\n",
       "      <th>MMIN</th>\n",
       "      <th>MMAX</th>\n",
       "      <th>CACH</th>\n",
       "      <th>CHMIN</th>\n",
       "      <th>CHMAX</th>\n",
       "      <th>PRP</th>\n",
       "      <th>ERP</th>\n",
       "    </tr>\n",
       "  </thead>\n",
       "  <tbody>\n",
       "    <tr>\n",
       "      <th>0</th>\n",
       "      <td>adviser</td>\n",
       "      <td>32/60</td>\n",
       "      <td>125</td>\n",
       "      <td>256</td>\n",
       "      <td>6000</td>\n",
       "      <td>256</td>\n",
       "      <td>16</td>\n",
       "      <td>128</td>\n",
       "      <td>198</td>\n",
       "      <td>199</td>\n",
       "    </tr>\n",
       "    <tr>\n",
       "      <th>1</th>\n",
       "      <td>amdahl</td>\n",
       "      <td>470v/7</td>\n",
       "      <td>29</td>\n",
       "      <td>8000</td>\n",
       "      <td>32000</td>\n",
       "      <td>32</td>\n",
       "      <td>8</td>\n",
       "      <td>32</td>\n",
       "      <td>269</td>\n",
       "      <td>253</td>\n",
       "    </tr>\n",
       "    <tr>\n",
       "      <th>2</th>\n",
       "      <td>amdahl</td>\n",
       "      <td>470v/7a</td>\n",
       "      <td>29</td>\n",
       "      <td>8000</td>\n",
       "      <td>32000</td>\n",
       "      <td>32</td>\n",
       "      <td>8</td>\n",
       "      <td>32</td>\n",
       "      <td>220</td>\n",
       "      <td>253</td>\n",
       "    </tr>\n",
       "    <tr>\n",
       "      <th>3</th>\n",
       "      <td>amdahl</td>\n",
       "      <td>470v/7b</td>\n",
       "      <td>29</td>\n",
       "      <td>8000</td>\n",
       "      <td>32000</td>\n",
       "      <td>32</td>\n",
       "      <td>8</td>\n",
       "      <td>32</td>\n",
       "      <td>172</td>\n",
       "      <td>253</td>\n",
       "    </tr>\n",
       "    <tr>\n",
       "      <th>4</th>\n",
       "      <td>amdahl</td>\n",
       "      <td>470v/7c</td>\n",
       "      <td>29</td>\n",
       "      <td>8000</td>\n",
       "      <td>16000</td>\n",
       "      <td>32</td>\n",
       "      <td>8</td>\n",
       "      <td>16</td>\n",
       "      <td>132</td>\n",
       "      <td>132</td>\n",
       "    </tr>\n",
       "  </tbody>\n",
       "</table>\n",
       "</div>"
      ],
      "text/plain": [
       "    vendor    model  MYCT  MMIN   MMAX  CACH  CHMIN  CHMAX  PRP  ERP\n",
       "0  adviser    32/60   125   256   6000   256     16    128  198  199\n",
       "1   amdahl   470v/7    29  8000  32000    32      8     32  269  253\n",
       "2   amdahl  470v/7a    29  8000  32000    32      8     32  220  253\n",
       "3   amdahl  470v/7b    29  8000  32000    32      8     32  172  253\n",
       "4   amdahl  470v/7c    29  8000  16000    32      8     16  132  132"
      ]
     },
     "execution_count": 5,
     "metadata": {},
     "output_type": "execute_result"
    }
   ],
   "source": [
    "df.head()"
   ]
  },
  {
   "cell_type": "markdown",
   "id": "0b3973d6",
   "metadata": {},
   "source": [
    "# Simple EDA"
   ]
  },
  {
   "cell_type": "code",
   "execution_count": 6,
   "id": "203c0a2e",
   "metadata": {},
   "outputs": [
    {
     "data": {
      "text/html": [
       "<div>\n",
       "<style scoped>\n",
       "    .dataframe tbody tr th:only-of-type {\n",
       "        vertical-align: middle;\n",
       "    }\n",
       "\n",
       "    .dataframe tbody tr th {\n",
       "        vertical-align: top;\n",
       "    }\n",
       "\n",
       "    .dataframe thead th {\n",
       "        text-align: right;\n",
       "    }\n",
       "</style>\n",
       "<table border=\"1\" class=\"dataframe\">\n",
       "  <thead>\n",
       "    <tr style=\"text-align: right;\">\n",
       "      <th></th>\n",
       "      <th>MYCT</th>\n",
       "      <th>MMIN</th>\n",
       "      <th>MMAX</th>\n",
       "      <th>CACH</th>\n",
       "      <th>CHMIN</th>\n",
       "      <th>CHMAX</th>\n",
       "      <th>PRP</th>\n",
       "      <th>ERP</th>\n",
       "    </tr>\n",
       "  </thead>\n",
       "  <tbody>\n",
       "    <tr>\n",
       "      <th>count</th>\n",
       "      <td>209.000000</td>\n",
       "      <td>209.000000</td>\n",
       "      <td>209.000000</td>\n",
       "      <td>209.000000</td>\n",
       "      <td>209.000000</td>\n",
       "      <td>209.000000</td>\n",
       "      <td>209.000000</td>\n",
       "      <td>209.000000</td>\n",
       "    </tr>\n",
       "    <tr>\n",
       "      <th>mean</th>\n",
       "      <td>203.822967</td>\n",
       "      <td>2867.980861</td>\n",
       "      <td>11796.153110</td>\n",
       "      <td>25.205742</td>\n",
       "      <td>4.698565</td>\n",
       "      <td>18.267943</td>\n",
       "      <td>105.622010</td>\n",
       "      <td>99.330144</td>\n",
       "    </tr>\n",
       "    <tr>\n",
       "      <th>std</th>\n",
       "      <td>260.262926</td>\n",
       "      <td>3878.742758</td>\n",
       "      <td>11726.564377</td>\n",
       "      <td>40.628722</td>\n",
       "      <td>6.816274</td>\n",
       "      <td>25.997318</td>\n",
       "      <td>160.830733</td>\n",
       "      <td>154.757102</td>\n",
       "    </tr>\n",
       "    <tr>\n",
       "      <th>min</th>\n",
       "      <td>17.000000</td>\n",
       "      <td>64.000000</td>\n",
       "      <td>64.000000</td>\n",
       "      <td>0.000000</td>\n",
       "      <td>0.000000</td>\n",
       "      <td>0.000000</td>\n",
       "      <td>6.000000</td>\n",
       "      <td>15.000000</td>\n",
       "    </tr>\n",
       "    <tr>\n",
       "      <th>25%</th>\n",
       "      <td>50.000000</td>\n",
       "      <td>768.000000</td>\n",
       "      <td>4000.000000</td>\n",
       "      <td>0.000000</td>\n",
       "      <td>1.000000</td>\n",
       "      <td>5.000000</td>\n",
       "      <td>27.000000</td>\n",
       "      <td>28.000000</td>\n",
       "    </tr>\n",
       "    <tr>\n",
       "      <th>50%</th>\n",
       "      <td>110.000000</td>\n",
       "      <td>2000.000000</td>\n",
       "      <td>8000.000000</td>\n",
       "      <td>8.000000</td>\n",
       "      <td>2.000000</td>\n",
       "      <td>8.000000</td>\n",
       "      <td>50.000000</td>\n",
       "      <td>45.000000</td>\n",
       "    </tr>\n",
       "    <tr>\n",
       "      <th>75%</th>\n",
       "      <td>225.000000</td>\n",
       "      <td>4000.000000</td>\n",
       "      <td>16000.000000</td>\n",
       "      <td>32.000000</td>\n",
       "      <td>6.000000</td>\n",
       "      <td>24.000000</td>\n",
       "      <td>113.000000</td>\n",
       "      <td>101.000000</td>\n",
       "    </tr>\n",
       "    <tr>\n",
       "      <th>max</th>\n",
       "      <td>1500.000000</td>\n",
       "      <td>32000.000000</td>\n",
       "      <td>64000.000000</td>\n",
       "      <td>256.000000</td>\n",
       "      <td>52.000000</td>\n",
       "      <td>176.000000</td>\n",
       "      <td>1150.000000</td>\n",
       "      <td>1238.000000</td>\n",
       "    </tr>\n",
       "  </tbody>\n",
       "</table>\n",
       "</div>"
      ],
      "text/plain": [
       "              MYCT          MMIN          MMAX        CACH       CHMIN  \\\n",
       "count   209.000000    209.000000    209.000000  209.000000  209.000000   \n",
       "mean    203.822967   2867.980861  11796.153110   25.205742    4.698565   \n",
       "std     260.262926   3878.742758  11726.564377   40.628722    6.816274   \n",
       "min      17.000000     64.000000     64.000000    0.000000    0.000000   \n",
       "25%      50.000000    768.000000   4000.000000    0.000000    1.000000   \n",
       "50%     110.000000   2000.000000   8000.000000    8.000000    2.000000   \n",
       "75%     225.000000   4000.000000  16000.000000   32.000000    6.000000   \n",
       "max    1500.000000  32000.000000  64000.000000  256.000000   52.000000   \n",
       "\n",
       "            CHMAX          PRP          ERP  \n",
       "count  209.000000   209.000000   209.000000  \n",
       "mean    18.267943   105.622010    99.330144  \n",
       "std     25.997318   160.830733   154.757102  \n",
       "min      0.000000     6.000000    15.000000  \n",
       "25%      5.000000    27.000000    28.000000  \n",
       "50%      8.000000    50.000000    45.000000  \n",
       "75%     24.000000   113.000000   101.000000  \n",
       "max    176.000000  1150.000000  1238.000000  "
      ]
     },
     "execution_count": 6,
     "metadata": {},
     "output_type": "execute_result"
    }
   ],
   "source": [
    "df.describe()"
   ]
  },
  {
   "cell_type": "code",
   "execution_count": 7,
   "id": "0f3fa0b6",
   "metadata": {},
   "outputs": [
    {
     "name": "stdout",
     "output_type": "stream",
     "text": [
      "<class 'pandas.core.frame.DataFrame'>\n",
      "RangeIndex: 209 entries, 0 to 208\n",
      "Data columns (total 10 columns):\n",
      " #   Column  Non-Null Count  Dtype \n",
      "---  ------  --------------  ----- \n",
      " 0   vendor  209 non-null    object\n",
      " 1   model   209 non-null    object\n",
      " 2   MYCT    209 non-null    int64 \n",
      " 3   MMIN    209 non-null    int64 \n",
      " 4   MMAX    209 non-null    int64 \n",
      " 5   CACH    209 non-null    int64 \n",
      " 6   CHMIN   209 non-null    int64 \n",
      " 7   CHMAX   209 non-null    int64 \n",
      " 8   PRP     209 non-null    int64 \n",
      " 9   ERP     209 non-null    int64 \n",
      "dtypes: int64(8), object(2)\n",
      "memory usage: 16.5+ KB\n"
     ]
    }
   ],
   "source": [
    "df.info()"
   ]
  },
  {
   "cell_type": "code",
   "execution_count": 13,
   "id": "7f95148c",
   "metadata": {},
   "outputs": [
    {
     "data": {
      "text/plain": [
       "vendor    object\n",
       "model     object\n",
       "MYCT       int64\n",
       "MMIN       int64\n",
       "MMAX       int64\n",
       "CACH       int64\n",
       "CHMIN      int64\n",
       "CHMAX      int64\n",
       "PRP        int64\n",
       "ERP        int64\n",
       "dtype: object"
      ]
     },
     "execution_count": 13,
     "metadata": {},
     "output_type": "execute_result"
    }
   ],
   "source": [
    "df.dtypes"
   ]
  },
  {
   "cell_type": "code",
   "execution_count": 14,
   "id": "9a9dd457",
   "metadata": {},
   "outputs": [
    {
     "data": {
      "text/html": [
       "<div>\n",
       "<style scoped>\n",
       "    .dataframe tbody tr th:only-of-type {\n",
       "        vertical-align: middle;\n",
       "    }\n",
       "\n",
       "    .dataframe tbody tr th {\n",
       "        vertical-align: top;\n",
       "    }\n",
       "\n",
       "    .dataframe thead th {\n",
       "        text-align: right;\n",
       "    }\n",
       "</style>\n",
       "<table border=\"1\" class=\"dataframe\">\n",
       "  <thead>\n",
       "    <tr style=\"text-align: right;\">\n",
       "      <th></th>\n",
       "      <th>MYCT</th>\n",
       "      <th>MMIN</th>\n",
       "      <th>MMAX</th>\n",
       "      <th>CACH</th>\n",
       "      <th>CHMIN</th>\n",
       "      <th>CHMAX</th>\n",
       "      <th>PRP</th>\n",
       "      <th>ERP</th>\n",
       "    </tr>\n",
       "  </thead>\n",
       "  <tbody>\n",
       "    <tr>\n",
       "      <th>MYCT</th>\n",
       "      <td>1.000000</td>\n",
       "      <td>-0.335642</td>\n",
       "      <td>-0.378561</td>\n",
       "      <td>-0.321000</td>\n",
       "      <td>-0.301090</td>\n",
       "      <td>-0.250502</td>\n",
       "      <td>-0.307099</td>\n",
       "      <td>-0.288396</td>\n",
       "    </tr>\n",
       "    <tr>\n",
       "      <th>MMIN</th>\n",
       "      <td>-0.335642</td>\n",
       "      <td>1.000000</td>\n",
       "      <td>0.758157</td>\n",
       "      <td>0.534729</td>\n",
       "      <td>0.517189</td>\n",
       "      <td>0.266907</td>\n",
       "      <td>0.794931</td>\n",
       "      <td>0.819292</td>\n",
       "    </tr>\n",
       "    <tr>\n",
       "      <th>MMAX</th>\n",
       "      <td>-0.378561</td>\n",
       "      <td>0.758157</td>\n",
       "      <td>1.000000</td>\n",
       "      <td>0.537990</td>\n",
       "      <td>0.560513</td>\n",
       "      <td>0.527246</td>\n",
       "      <td>0.863004</td>\n",
       "      <td>0.901202</td>\n",
       "    </tr>\n",
       "    <tr>\n",
       "      <th>CACH</th>\n",
       "      <td>-0.321000</td>\n",
       "      <td>0.534729</td>\n",
       "      <td>0.537990</td>\n",
       "      <td>1.000000</td>\n",
       "      <td>0.582245</td>\n",
       "      <td>0.487846</td>\n",
       "      <td>0.662641</td>\n",
       "      <td>0.648620</td>\n",
       "    </tr>\n",
       "    <tr>\n",
       "      <th>CHMIN</th>\n",
       "      <td>-0.301090</td>\n",
       "      <td>0.517189</td>\n",
       "      <td>0.560513</td>\n",
       "      <td>0.582245</td>\n",
       "      <td>1.000000</td>\n",
       "      <td>0.548281</td>\n",
       "      <td>0.608903</td>\n",
       "      <td>0.610580</td>\n",
       "    </tr>\n",
       "    <tr>\n",
       "      <th>CHMAX</th>\n",
       "      <td>-0.250502</td>\n",
       "      <td>0.266907</td>\n",
       "      <td>0.527246</td>\n",
       "      <td>0.487846</td>\n",
       "      <td>0.548281</td>\n",
       "      <td>1.000000</td>\n",
       "      <td>0.605209</td>\n",
       "      <td>0.592156</td>\n",
       "    </tr>\n",
       "    <tr>\n",
       "      <th>PRP</th>\n",
       "      <td>-0.307099</td>\n",
       "      <td>0.794931</td>\n",
       "      <td>0.863004</td>\n",
       "      <td>0.662641</td>\n",
       "      <td>0.608903</td>\n",
       "      <td>0.605209</td>\n",
       "      <td>1.000000</td>\n",
       "      <td>0.966472</td>\n",
       "    </tr>\n",
       "    <tr>\n",
       "      <th>ERP</th>\n",
       "      <td>-0.288396</td>\n",
       "      <td>0.819292</td>\n",
       "      <td>0.901202</td>\n",
       "      <td>0.648620</td>\n",
       "      <td>0.610580</td>\n",
       "      <td>0.592156</td>\n",
       "      <td>0.966472</td>\n",
       "      <td>1.000000</td>\n",
       "    </tr>\n",
       "  </tbody>\n",
       "</table>\n",
       "</div>"
      ],
      "text/plain": [
       "           MYCT      MMIN      MMAX      CACH     CHMIN     CHMAX       PRP  \\\n",
       "MYCT   1.000000 -0.335642 -0.378561 -0.321000 -0.301090 -0.250502 -0.307099   \n",
       "MMIN  -0.335642  1.000000  0.758157  0.534729  0.517189  0.266907  0.794931   \n",
       "MMAX  -0.378561  0.758157  1.000000  0.537990  0.560513  0.527246  0.863004   \n",
       "CACH  -0.321000  0.534729  0.537990  1.000000  0.582245  0.487846  0.662641   \n",
       "CHMIN -0.301090  0.517189  0.560513  0.582245  1.000000  0.548281  0.608903   \n",
       "CHMAX -0.250502  0.266907  0.527246  0.487846  0.548281  1.000000  0.605209   \n",
       "PRP   -0.307099  0.794931  0.863004  0.662641  0.608903  0.605209  1.000000   \n",
       "ERP   -0.288396  0.819292  0.901202  0.648620  0.610580  0.592156  0.966472   \n",
       "\n",
       "            ERP  \n",
       "MYCT  -0.288396  \n",
       "MMIN   0.819292  \n",
       "MMAX   0.901202  \n",
       "CACH   0.648620  \n",
       "CHMIN  0.610580  \n",
       "CHMAX  0.592156  \n",
       "PRP    0.966472  \n",
       "ERP    1.000000  "
      ]
     },
     "execution_count": 14,
     "metadata": {},
     "output_type": "execute_result"
    }
   ],
   "source": [
    "df.corr()"
   ]
  },
  {
   "cell_type": "code",
   "execution_count": 22,
   "id": "cc0cd039",
   "metadata": {},
   "outputs": [
    {
     "data": {
      "image/png": "[encoded data removed]",
      "text/plain": [
       "<Figure size 432x288 with 2 Axes>"
      ]
     },
     "metadata": {
      "needs_background": "light"
     },
     "output_type": "display_data"
    }
   ],
   "source": [
    "sns.heatmap(df.corr(), cmap='rocket_r', annot=True, fmt='.2f', linewidth=0.5)\n",
    "plt.title('Correlation Among Features')\n",
    "plt.show()"
   ]
  },
  {
   "cell_type": "markdown",
   "id": "50622fcd",
   "metadata": {},
   "source": [
    "# Box plotting to find outliers"
   ]
  },
  {
   "cell_type": "code",
   "execution_count": 24,
   "id": "39c434de",
   "metadata": {},
   "outputs": [
    {
     "name": "stdout",
     "output_type": "stream",
     "text": [
      "Numerical Features: \n"
     ]
    },
    {
     "data": {
      "text/plain": [
       "['MYCT', 'MMIN', 'MMAX', 'CACH', 'CHMIN', 'CHMAX', 'PRP', 'ERP']"
      ]
     },
     "execution_count": 24,
     "metadata": {},
     "output_type": "execute_result"
    }
   ],
   "source": [
    "features = [feature for feature in df.columns if df[feature].dtype == np.int64]\n",
    "print('Numerical Features: ')\n",
    "features"
   ]
  },
  {
   "cell_type": "code",
   "execution_count": 51,
   "id": "7a2102f7",
   "metadata": {},
   "outputs": [
    {
     "data": {
      "image/png": "[encoded data removed]",
      "text/plain": [
       "<Figure size 1080x1440 with 8 Axes>"
      ]
     },
     "metadata": {
      "needs_background": "light"
     },
     "output_type": "display_data"
    }
   ],
   "source": [
    "fig, axs = plt.subplots(ncols = 2, nrows=4,figsize = (15, 20))\n",
    "fig.suptitle('Box Plots', fontsize= 32)\n",
    "axs = axs.flatten()\n",
    "for ind, feature in enumerate(features):\n",
    "    sns.boxplot(data=df[feature], color='red', ax=axs[ind])\n",
    "    axs[ind].set_title(feature)\n",
    "plt.show()"
   ]
  },
  {
   "cell_type": "markdown",
   "id": "327ae861",
   "metadata": {},
   "source": [
    "# Separating Input and Output Features"
   ]
  },
  {
   "cell_type": "code",
   "execution_count": 52,
   "id": "f4223f58",
   "metadata": {},
   "outputs": [],
   "source": [
    "X = df[features].drop('ERP', axis=1)\n",
    "y = df['ERP']"
   ]
  },
  {
   "cell_type": "code",
   "execution_count": 53,
   "id": "78d256b9",
   "metadata": {},
   "outputs": [
    {
     "data": {
      "text/html": [
       "<div>\n",
       "<style scoped>\n",
       "    .dataframe tbody tr th:only-of-type {\n",
       "        vertical-align: middle;\n",
       "    }\n",
       "\n",
       "    .dataframe tbody tr th {\n",
       "        vertical-align: top;\n",
       "    }\n",
       "\n",
       "    .dataframe thead th {\n",
       "        text-align: right;\n",
       "    }\n",
       "</style>\n",
       "<table border=\"1\" class=\"dataframe\">\n",
       "  <thead>\n",
       "    <tr style=\"text-align: right;\">\n",
       "      <th></th>\n",
       "      <th>MYCT</th>\n",
       "      <th>MMIN</th>\n",
       "      <th>MMAX</th>\n",
       "      <th>CACH</th>\n",
       "      <th>CHMIN</th>\n",
       "      <th>CHMAX</th>\n",
       "      <th>PRP</th>\n",
       "    </tr>\n",
       "  </thead>\n",
       "  <tbody>\n",
       "    <tr>\n",
       "      <th>0</th>\n",
       "      <td>125</td>\n",
       "      <td>256</td>\n",
       "      <td>6000</td>\n",
       "      <td>256</td>\n",
       "      <td>16</td>\n",
       "      <td>128</td>\n",
       "      <td>198</td>\n",
       "    </tr>\n",
       "    <tr>\n",
       "      <th>1</th>\n",
       "      <td>29</td>\n",
       "      <td>8000</td>\n",
       "      <td>32000</td>\n",
       "      <td>32</td>\n",
       "      <td>8</td>\n",
       "      <td>32</td>\n",
       "      <td>269</td>\n",
       "    </tr>\n",
       "    <tr>\n",
       "      <th>2</th>\n",
       "      <td>29</td>\n",
       "      <td>8000</td>\n",
       "      <td>32000</td>\n",
       "      <td>32</td>\n",
       "      <td>8</td>\n",
       "      <td>32</td>\n",
       "      <td>220</td>\n",
       "    </tr>\n",
       "  </tbody>\n",
       "</table>\n",
       "</div>"
      ],
      "text/plain": [
       "   MYCT  MMIN   MMAX  CACH  CHMIN  CHMAX  PRP\n",
       "0   125   256   6000   256     16    128  198\n",
       "1    29  8000  32000    32      8     32  269\n",
       "2    29  8000  32000    32      8     32  220"
      ]
     },
     "execution_count": 53,
     "metadata": {},
     "output_type": "execute_result"
    }
   ],
   "source": [
    "X.head(3)"
   ]
  },
  {
   "cell_type": "code",
   "execution_count": 54,
   "id": "cdabc9e3",
   "metadata": {},
   "outputs": [
    {
     "data": {
      "text/plain": [
       "0    199\n",
       "1    253\n",
       "2    253\n",
       "Name: ERP, dtype: int64"
      ]
     },
     "execution_count": 54,
     "metadata": {},
     "output_type": "execute_result"
    }
   ],
   "source": [
    "y.head(3)"
   ]
  },
  {
   "cell_type": "markdown",
   "id": "f1a9fd6c",
   "metadata": {},
   "source": [
    "# Train test split"
   ]
  },
  {
   "cell_type": "code",
   "execution_count": 55,
   "id": "56b89b57",
   "metadata": {},
   "outputs": [],
   "source": [
    "from sklearn.model_selection import train_test_split"
   ]
  },
  {
   "cell_type": "code",
   "execution_count": 56,
   "id": "62530475",
   "metadata": {},
   "outputs": [],
   "source": [
    "X_train, X_test, y_train, y_test = train_test_split(X, y, train_size=0.7, random_state=42)"
   ]
  },
  {
   "cell_type": "markdown",
   "id": "3acac770",
   "metadata": {},
   "source": [
    "# Model without Scaling"
   ]
  },
  {
   "cell_type": "code",
   "execution_count": 57,
   "id": "9702bcc3",
   "metadata": {},
   "outputs": [],
   "source": [
    "from sklearn.linear_model import LinearRegression"
   ]
  },
  {
   "cell_type": "code",
   "execution_count": 58,
   "id": "ae104175",
   "metadata": {},
   "outputs": [],
   "source": [
    "lm = LinearRegression()"
   ]
  },
  {
   "cell_type": "code",
   "execution_count": 59,
   "id": "d4888c7e",
   "metadata": {},
   "outputs": [
    {
     "data": {
      "text/plain": [
       "LinearRegression()"
      ]
     },
     "execution_count": 59,
     "metadata": {},
     "output_type": "execute_result"
    }
   ],
   "source": [
    "lm.fit(X_train, y_train)"
   ]
  },
  {
   "cell_type": "markdown",
   "id": "00afb15a",
   "metadata": {},
   "source": [
    "## Evaluation"
   ]
  },
  {
   "cell_type": "code",
   "execution_count": 63,
   "id": "4239d5a9",
   "metadata": {},
   "outputs": [],
   "source": [
    "y_pred = lm.predict(X_test)"
   ]
  },
  {
   "cell_type": "code",
   "execution_count": 64,
   "id": "e8fd65eb",
   "metadata": {},
   "outputs": [],
   "source": [
    "from sklearn.metrics import r2_score, mean_squared_error"
   ]
  },
  {
   "cell_type": "code",
   "execution_count": 65,
   "id": "1de706bc",
   "metadata": {},
   "outputs": [
    {
     "data": {
      "text/plain": [
       "0.9030240858028924"
      ]
     },
     "execution_count": 65,
     "metadata": {},
     "output_type": "execute_result"
    }
   ],
   "source": [
    "r2_score(y_test, y_pred)"
   ]
  },
  {
   "cell_type": "code",
   "execution_count": 67,
   "id": "c7e83531",
   "metadata": {},
   "outputs": [
    {
     "data": {
      "text/plain": [
       "5225.936188534769"
      ]
     },
     "execution_count": 67,
     "metadata": {},
     "output_type": "execute_result"
    }
   ],
   "source": [
    "mean_squared_error(y_test, y_pred)"
   ]
  },
  {
   "cell_type": "markdown",
   "id": "a23293fd",
   "metadata": {},
   "source": [
    "## Plotting residuals"
   ]
  },
  {
   "cell_type": "code",
   "execution_count": 69,
   "id": "992fc9a0",
   "metadata": {},
   "outputs": [
    {
     "data": {
      "image/png": "[encoded data removed]",
      "text/plain": [
       "<Figure size 432x288 with 1 Axes>"
      ]
     },
     "metadata": {
      "needs_background": "light"
     },
     "output_type": "display_data"
    }
   ],
   "source": [
    "residuals = y_test - y_pred\n",
    "sns.kdeplot(residuals, color='black')\n",
    "plt.title('Residuals')\n",
    "plt.xlim(-200, 200)\n",
    "plt.show()"
   ]
  },
  {
   "cell_type": "markdown",
   "id": "7511eee5",
   "metadata": {},
   "source": [
    "## Plotting Actual Values vs Predicted Values"
   ]
  },
  {
   "cell_type": "code",
   "execution_count": 81,
   "id": "ba36dbb0",
   "metadata": {},
   "outputs": [
    {
     "data": {
      "image/png": "[encoded data removed]",
      "text/plain": [
       "<Figure size 720x360 with 1 Axes>"
      ]
     },
     "metadata": {
      "needs_background": "light"
     },
     "output_type": "display_data"
    }
   ],
   "source": [
    "plt.figure(figsize=(10, 5))\n",
    "sns.kdeplot(y_test, color='purple', label='True Values')\n",
    "sns.kdeplot(y_pred, color='orange', label='Predicted Values')\n",
    "plt.legend(loc='best')\n",
    "plt.show()"
   ]
  },
  {
   "cell_type": "markdown",
   "id": "cde8fa3b",
   "metadata": {},
   "source": [
    "# Conclusion\n",
    "Working better without scaling than I predicted."
   ]
  },
  {
   "cell_type": "markdown",
   "id": "5c589374",
   "metadata": {},
   "source": [
    "# Model with scaling"
   ]
  },
  {
   "cell_type": "code",
   "execution_count": 82,
   "id": "0f05391e",
   "metadata": {},
   "outputs": [],
   "source": [
    "from sklearn.preprocessing import StandardScaler\n",
    "from sklearn.pipeline import Pipeline"
   ]
  },
  {
   "cell_type": "code",
   "execution_count": 85,
   "id": "268c9ab4",
   "metadata": {},
   "outputs": [],
   "source": [
    "pipeline = Pipeline([('scaler', StandardScaler()), ('lin_reg', LinearRegression())])"
   ]
  },
  {
   "cell_type": "code",
   "execution_count": 86,
   "id": "de3cd9ad",
   "metadata": {},
   "outputs": [
    {
     "data": {
      "text/plain": [
       "Pipeline(steps=[('scaler', StandardScaler()), ('lin_reg', LinearRegression())])"
      ]
     },
     "execution_count": 86,
     "metadata": {},
     "output_type": "execute_result"
    }
   ],
   "source": [
    "pipeline.fit(X_train, y_train)"
   ]
  },
  {
   "cell_type": "markdown",
   "id": "23fcbc58",
   "metadata": {},
   "source": [
    "## Evaluation"
   ]
  },
  {
   "cell_type": "code",
   "execution_count": 87,
   "id": "4b3d50bd",
   "metadata": {},
   "outputs": [],
   "source": [
    "y_pred = pipeline.predict(X_test)"
   ]
  },
  {
   "cell_type": "code",
   "execution_count": 88,
   "id": "afe1cb35",
   "metadata": {},
   "outputs": [
    {
     "data": {
      "text/plain": [
       "0.9030240858028936"
      ]
     },
     "execution_count": 88,
     "metadata": {},
     "output_type": "execute_result"
    }
   ],
   "source": [
    "r2_score(y_test, y_pred)"
   ]
  },
  {
   "cell_type": "code",
   "execution_count": 89,
   "id": "c6463059",
   "metadata": {},
   "outputs": [
    {
     "data": {
      "text/plain": [
       "5225.9361885347025"
      ]
     },
     "execution_count": 89,
     "metadata": {},
     "output_type": "execute_result"
    }
   ],
   "source": [
    "mean_squared_error(y_test, y_pred)"
   ]
  },
  {
   "cell_type": "markdown",
   "id": "a4553c1d",
   "metadata": {},
   "source": [
    "## Plotting Residuals"
   ]
  },
  {
   "cell_type": "code",
   "execution_count": 90,
   "id": "6db520ee",
   "metadata": {},
   "outputs": [
    {
     "data": {
      "image/png": "[encoded data removed]",
      "text/plain": [
       "<Figure size 432x288 with 1 Axes>"
      ]
     },
     "metadata": {
      "needs_background": "light"
     },
     "output_type": "display_data"
    }
   ],
   "source": [
    "residuals = y_test - y_pred\n",
    "sns.kdeplot(residuals, color='black')\n",
    "plt.title('Residuals')\n",
    "plt.xlim(-200, 200)\n",
    "plt.show()"
   ]
  },
  {
   "cell_type": "markdown",
   "id": "e485c333",
   "metadata": {},
   "source": [
    "## Plotting Actual Values vs Predictions"
   ]
  },
  {
   "cell_type": "code",
   "execution_count": 91,
   "id": "92e1a853",
   "metadata": {},
   "outputs": [
    {
     "data": {
      "image/png": "[encoded data removed]",
      "text/plain": [
       "<Figure size 720x360 with 1 Axes>"
      ]
     },
     "metadata": {
      "needs_background": "light"
     },
     "output_type": "display_data"
    }
   ],
   "source": [
    "plt.figure(figsize=(10, 5))\n",
    "sns.kdeplot(y_test, color='purple', label='True Values')\n",
    "sns.kdeplot(y_pred, color='orange', label='Predicted Values')\n",
    "plt.legend(loc='best')\n",
    "plt.show()"
   ]
  },
  {
   "cell_type": "markdown",
   "id": "9ab1ec39",
   "metadata": {},
   "source": [
    "# Conclusion\n",
    "There is no major change in case of scaling the input data"
   ]
  },
  {
   "cell_type": "markdown",
   "id": "6c4472ce",
   "metadata": {},
   "source": [
    "# Scaled vs Unscaled Data"
   ]
  },
  {
   "cell_type": "code",
   "execution_count": 92,
   "id": "d5f94d5a",
   "metadata": {},
   "outputs": [],
   "source": [
    "scaled = pipeline.predict(X_test)\n",
    "unscaled = lm.predict(X_test)"
   ]
  },
  {
   "cell_type": "code",
   "execution_count": 93,
   "id": "3c1fb6bd",
   "metadata": {},
   "outputs": [],
   "source": [
    "difference = scaled - unscaled"
   ]
  },
  {
   "cell_type": "code",
   "execution_count": 103,
   "id": "92c06a00",
   "metadata": {},
   "outputs": [
    {
     "data": {
      "image/png": "[encoded data removed]",
      "text/plain": [
       "<Figure size 432x288 with 1 Axes>"
      ]
     },
     "metadata": {
      "needs_background": "light"
     },
     "output_type": "display_data"
    }
   ],
   "source": [
    "sns.kdeplot(difference, color='black')\n",
    "plt.title('Residuals')\n",
    "plt.xlim(-0.5, 0.5)\n",
    "plt.show()"
   ]
  },
  {
   "cell_type": "code",
   "execution_count": 104,
   "id": "dfb35fea",
   "metadata": {},
   "outputs": [
    {
     "data": {
      "image/png": "[encoded data removed]",
      "text/plain": [
       "<Figure size 432x288 with 1 Axes>"
      ]
     },
     "metadata": {
      "needs_background": "light"
     },
     "output_type": "display_data"
    }
   ],
   "source": [
    "sns.kdeplot(difference, color='black')\n",
    "plt.title('Residuals')\n",
    "plt.xlim(-0.000000000005, 0.000000000005)\n",
    "plt.show()"
   ]
  },
  {
   "cell_type": "markdown",
   "id": "bde944e0",
   "metadata": {},
   "source": [
    "# Conclusion\n",
    "Th"
   ]
  }
 ],
 "metadata": {
  "kernelspec": {
   "display_name": "Python 3 (ipykernel)",
   "language": "python",
   "name": "python3"
  },
  "language_info": {
   "codemirror_mode": {
    "name": "ipython",
    "version": 3
   },
   "file_extension": ".py",
   "mimetype": "text/x-python",
   "name": "python",
   "nbconvert_exporter": "python",
   "pygments_lexer": "ipython3",
   "version": "3.9.12"
  }
 },
 "nbformat": 4,
 "nbformat_minor": 5
}
