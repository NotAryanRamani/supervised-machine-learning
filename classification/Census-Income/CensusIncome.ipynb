{
 "cells": [
  {
   "cell_type": "markdown",
   "id": "47cd6449",
   "metadata": {},
   "source": [
    "# Dataset Information\n",
    "* This data was extracted from the census bureau database found at  \n",
    "http://www.census.gov/ftp/pub/DES/www/welcome.html  \n",
    "* Donor: Ronny Kohavi and Barry Becker, Data Mining and Visualization, Silicon Graphics.  \n",
    "* 48842 instances, mix of continuous and discrete    \n",
    "* 45222 if instances with unknown values are removed \n",
    "* Duplicate or conflicting instances : 6\n",
    "* Class probabilities for adult.all file\n",
    "    1. Probability for the label '>50K'  : 23.93% / 24.78% (without unknowns)\n",
    "    2. Probability for the label '<=50K' : 76.07% / 75.22% (without unknowns)"
   ]
  },
  {
   "cell_type": "code",
   "execution_count": 1,
   "id": "a4da6e98",
   "metadata": {},
   "outputs": [],
   "source": [
    "import pandas as pd\n",
    "import numpy as np\n",
    "import matplotlib.pyplot as plt\n",
    "import seaborn as sns"
   ]
  },
  {
   "cell_type": "code",
   "execution_count": 2,
   "id": "689e27e7",
   "metadata": {},
   "outputs": [],
   "source": [
    "column_names = ['age', 'workclass', 'fnlwgt', 'education', 'education-num',\n",
    "                'marital-status', 'occupation', 'relationship', 'race', 'sex', \n",
    "                'capital-gain', 'captial-loss', 'hours-per-week', \n",
    "                'native-country', 'salary']"
   ]
  },
  {
   "cell_type": "code",
   "execution_count": 3,
   "id": "a35ab118",
   "metadata": {
    "scrolled": true
   },
   "outputs": [
    {
     "data": {
      "text/html": [
       "<div>\n",
       "<style scoped>\n",
       "    .dataframe tbody tr th:only-of-type {\n",
       "        vertical-align: middle;\n",
       "    }\n",
       "\n",
       "    .dataframe tbody tr th {\n",
       "        vertical-align: top;\n",
       "    }\n",
       "\n",
       "    .dataframe thead th {\n",
       "        text-align: right;\n",
       "    }\n",
       "</style>\n",
       "<table border=\"1\" class=\"dataframe\">\n",
       "  <thead>\n",
       "    <tr style=\"text-align: right;\">\n",
       "      <th></th>\n",
       "      <th>age</th>\n",
       "      <th>workclass</th>\n",
       "      <th>fnlwgt</th>\n",
       "      <th>education</th>\n",
       "      <th>education-num</th>\n",
       "      <th>marital-status</th>\n",
       "      <th>occupation</th>\n",
       "      <th>relationship</th>\n",
       "      <th>race</th>\n",
       "      <th>sex</th>\n",
       "      <th>capital-gain</th>\n",
       "      <th>captial-loss</th>\n",
       "      <th>hours-per-week</th>\n",
       "      <th>native-country</th>\n",
       "      <th>salary</th>\n",
       "    </tr>\n",
       "  </thead>\n",
       "  <tbody>\n",
       "    <tr>\n",
       "      <th>0</th>\n",
       "      <td>39</td>\n",
       "      <td>State-gov</td>\n",
       "      <td>77516</td>\n",
       "      <td>Bachelors</td>\n",
       "      <td>13</td>\n",
       "      <td>Never-married</td>\n",
       "      <td>Adm-clerical</td>\n",
       "      <td>Not-in-family</td>\n",
       "      <td>White</td>\n",
       "      <td>Male</td>\n",
       "      <td>2174</td>\n",
       "      <td>0</td>\n",
       "      <td>40</td>\n",
       "      <td>United-States</td>\n",
       "      <td>&lt;=50K</td>\n",
       "    </tr>\n",
       "    <tr>\n",
       "      <th>1</th>\n",
       "      <td>50</td>\n",
       "      <td>Self-emp-not-inc</td>\n",
       "      <td>83311</td>\n",
       "      <td>Bachelors</td>\n",
       "      <td>13</td>\n",
       "      <td>Married-civ-spouse</td>\n",
       "      <td>Exec-managerial</td>\n",
       "      <td>Husband</td>\n",
       "      <td>White</td>\n",
       "      <td>Male</td>\n",
       "      <td>0</td>\n",
       "      <td>0</td>\n",
       "      <td>13</td>\n",
       "      <td>United-States</td>\n",
       "      <td>&lt;=50K</td>\n",
       "    </tr>\n",
       "    <tr>\n",
       "      <th>2</th>\n",
       "      <td>38</td>\n",
       "      <td>Private</td>\n",
       "      <td>215646</td>\n",
       "      <td>HS-grad</td>\n",
       "      <td>9</td>\n",
       "      <td>Divorced</td>\n",
       "      <td>Handlers-cleaners</td>\n",
       "      <td>Not-in-family</td>\n",
       "      <td>White</td>\n",
       "      <td>Male</td>\n",
       "      <td>0</td>\n",
       "      <td>0</td>\n",
       "      <td>40</td>\n",
       "      <td>United-States</td>\n",
       "      <td>&lt;=50K</td>\n",
       "    </tr>\n",
       "    <tr>\n",
       "      <th>3</th>\n",
       "      <td>53</td>\n",
       "      <td>Private</td>\n",
       "      <td>234721</td>\n",
       "      <td>11th</td>\n",
       "      <td>7</td>\n",
       "      <td>Married-civ-spouse</td>\n",
       "      <td>Handlers-cleaners</td>\n",
       "      <td>Husband</td>\n",
       "      <td>Black</td>\n",
       "      <td>Male</td>\n",
       "      <td>0</td>\n",
       "      <td>0</td>\n",
       "      <td>40</td>\n",
       "      <td>United-States</td>\n",
       "      <td>&lt;=50K</td>\n",
       "    </tr>\n",
       "    <tr>\n",
       "      <th>4</th>\n",
       "      <td>28</td>\n",
       "      <td>Private</td>\n",
       "      <td>338409</td>\n",
       "      <td>Bachelors</td>\n",
       "      <td>13</td>\n",
       "      <td>Married-civ-spouse</td>\n",
       "      <td>Prof-specialty</td>\n",
       "      <td>Wife</td>\n",
       "      <td>Black</td>\n",
       "      <td>Female</td>\n",
       "      <td>0</td>\n",
       "      <td>0</td>\n",
       "      <td>40</td>\n",
       "      <td>Cuba</td>\n",
       "      <td>&lt;=50K</td>\n",
       "    </tr>\n",
       "  </tbody>\n",
       "</table>\n",
       "</div>"
      ],
      "text/plain": [
       "   age          workclass  fnlwgt   education  education-num  \\\n",
       "0   39          State-gov   77516   Bachelors             13   \n",
       "1   50   Self-emp-not-inc   83311   Bachelors             13   \n",
       "2   38            Private  215646     HS-grad              9   \n",
       "3   53            Private  234721        11th              7   \n",
       "4   28            Private  338409   Bachelors             13   \n",
       "\n",
       "        marital-status          occupation    relationship    race      sex  \\\n",
       "0        Never-married        Adm-clerical   Not-in-family   White     Male   \n",
       "1   Married-civ-spouse     Exec-managerial         Husband   White     Male   \n",
       "2             Divorced   Handlers-cleaners   Not-in-family   White     Male   \n",
       "3   Married-civ-spouse   Handlers-cleaners         Husband   Black     Male   \n",
       "4   Married-civ-spouse      Prof-specialty            Wife   Black   Female   \n",
       "\n",
       "   capital-gain  captial-loss  hours-per-week  native-country  salary  \n",
       "0          2174             0              40   United-States   <=50K  \n",
       "1             0             0              13   United-States   <=50K  \n",
       "2             0             0              40   United-States   <=50K  \n",
       "3             0             0              40   United-States   <=50K  \n",
       "4             0             0              40            Cuba   <=50K  "
      ]
     },
     "execution_count": 3,
     "metadata": {},
     "output_type": "execute_result"
    }
   ],
   "source": [
    "df = pd.read_csv('adult.data', header=None, names=column_names)\n",
    "df.head()"
   ]
  },
  {
   "cell_type": "markdown",
   "id": "d96fe4b8",
   "metadata": {},
   "source": [
    "## Encoding Target Variable\n",
    "* <=50k : 0\n",
    "* \\>50k : 1"
   ]
  },
  {
   "cell_type": "code",
   "execution_count": 4,
   "id": "803e6893",
   "metadata": {},
   "outputs": [
    {
     "data": {
      "text/plain": [
       "array([' <=50K', ' >50K'], dtype=object)"
      ]
     },
     "execution_count": 4,
     "metadata": {},
     "output_type": "execute_result"
    }
   ],
   "source": [
    "df['salary'].unique()"
   ]
  },
  {
   "cell_type": "code",
   "execution_count": 5,
   "id": "f86c6a02",
   "metadata": {},
   "outputs": [
    {
     "data": {
      "text/plain": [
       "0    <=50K\n",
       "1    <=50K\n",
       "2    <=50K\n",
       "3    <=50K\n",
       "4    <=50K\n",
       "Name: salary, dtype: object"
      ]
     },
     "execution_count": 5,
     "metadata": {},
     "output_type": "execute_result"
    }
   ],
   "source": [
    "df['salary'] = df['salary'].apply(lambda x: x.lstrip())\n",
    "df['salary'].head()"
   ]
  },
  {
   "cell_type": "code",
   "execution_count": 6,
   "id": "0145bdd2",
   "metadata": {},
   "outputs": [],
   "source": [
    "df['salary'].replace({'<=50K': '0', '>50K': '1'}, inplace=True)\n",
    "df['salary'] = df['salary'].astype(np.int64)"
   ]
  },
  {
   "cell_type": "code",
   "execution_count": 7,
   "id": "8660d570",
   "metadata": {},
   "outputs": [
    {
     "data": {
      "text/plain": [
       "0        0\n",
       "1        0\n",
       "2        0\n",
       "3        0\n",
       "4        0\n",
       "        ..\n",
       "32556    0\n",
       "32557    1\n",
       "32558    0\n",
       "32559    0\n",
       "32560    1\n",
       "Name: salary, Length: 32561, dtype: int64"
      ]
     },
     "execution_count": 7,
     "metadata": {},
     "output_type": "execute_result"
    }
   ],
   "source": [
    "df['salary']"
   ]
  },
  {
   "cell_type": "markdown",
   "id": "8a90de8f",
   "metadata": {},
   "source": [
    "## Handling Unnecessary Space of Categorical Variables"
   ]
  },
  {
   "cell_type": "code",
   "execution_count": 8,
   "id": "f9cdf813",
   "metadata": {},
   "outputs": [
    {
     "data": {
      "text/plain": [
       "['workclass',\n",
       " 'education',\n",
       " 'marital-status',\n",
       " 'occupation',\n",
       " 'relationship',\n",
       " 'race',\n",
       " 'sex',\n",
       " 'native-country']"
      ]
     },
     "execution_count": 8,
     "metadata": {},
     "output_type": "execute_result"
    }
   ],
   "source": [
    "categorical_features = [feature for feature in df.columns if df[feature].dtype == 'object']\n",
    "categorical_features"
   ]
  },
  {
   "cell_type": "code",
   "execution_count": 9,
   "id": "e4deb6f1",
   "metadata": {},
   "outputs": [],
   "source": [
    "for feature in categorical_features:\n",
    "    df[feature] = df[feature].apply(lambda x: x.lstrip().rstrip())"
   ]
  },
  {
   "cell_type": "markdown",
   "id": "b84a97b5",
   "metadata": {},
   "source": [
    "## Simple EDA"
   ]
  },
  {
   "cell_type": "code",
   "execution_count": 10,
   "id": "e26ce007",
   "metadata": {},
   "outputs": [
    {
     "data": {
      "text/html": [
       "<div>\n",
       "<style scoped>\n",
       "    .dataframe tbody tr th:only-of-type {\n",
       "        vertical-align: middle;\n",
       "    }\n",
       "\n",
       "    .dataframe tbody tr th {\n",
       "        vertical-align: top;\n",
       "    }\n",
       "\n",
       "    .dataframe thead th {\n",
       "        text-align: right;\n",
       "    }\n",
       "</style>\n",
       "<table border=\"1\" class=\"dataframe\">\n",
       "  <thead>\n",
       "    <tr style=\"text-align: right;\">\n",
       "      <th></th>\n",
       "      <th>age</th>\n",
       "      <th>fnlwgt</th>\n",
       "      <th>education-num</th>\n",
       "      <th>capital-gain</th>\n",
       "      <th>captial-loss</th>\n",
       "      <th>hours-per-week</th>\n",
       "      <th>salary</th>\n",
       "    </tr>\n",
       "  </thead>\n",
       "  <tbody>\n",
       "    <tr>\n",
       "      <th>count</th>\n",
       "      <td>32561.000000</td>\n",
       "      <td>3.256100e+04</td>\n",
       "      <td>32561.000000</td>\n",
       "      <td>32561.000000</td>\n",
       "      <td>32561.000000</td>\n",
       "      <td>32561.000000</td>\n",
       "      <td>32561.000000</td>\n",
       "    </tr>\n",
       "    <tr>\n",
       "      <th>mean</th>\n",
       "      <td>38.581647</td>\n",
       "      <td>1.897784e+05</td>\n",
       "      <td>10.080679</td>\n",
       "      <td>1077.648844</td>\n",
       "      <td>87.303830</td>\n",
       "      <td>40.437456</td>\n",
       "      <td>0.240810</td>\n",
       "    </tr>\n",
       "    <tr>\n",
       "      <th>std</th>\n",
       "      <td>13.640433</td>\n",
       "      <td>1.055500e+05</td>\n",
       "      <td>2.572720</td>\n",
       "      <td>7385.292085</td>\n",
       "      <td>402.960219</td>\n",
       "      <td>12.347429</td>\n",
       "      <td>0.427581</td>\n",
       "    </tr>\n",
       "    <tr>\n",
       "      <th>min</th>\n",
       "      <td>17.000000</td>\n",
       "      <td>1.228500e+04</td>\n",
       "      <td>1.000000</td>\n",
       "      <td>0.000000</td>\n",
       "      <td>0.000000</td>\n",
       "      <td>1.000000</td>\n",
       "      <td>0.000000</td>\n",
       "    </tr>\n",
       "    <tr>\n",
       "      <th>25%</th>\n",
       "      <td>28.000000</td>\n",
       "      <td>1.178270e+05</td>\n",
       "      <td>9.000000</td>\n",
       "      <td>0.000000</td>\n",
       "      <td>0.000000</td>\n",
       "      <td>40.000000</td>\n",
       "      <td>0.000000</td>\n",
       "    </tr>\n",
       "    <tr>\n",
       "      <th>50%</th>\n",
       "      <td>37.000000</td>\n",
       "      <td>1.783560e+05</td>\n",
       "      <td>10.000000</td>\n",
       "      <td>0.000000</td>\n",
       "      <td>0.000000</td>\n",
       "      <td>40.000000</td>\n",
       "      <td>0.000000</td>\n",
       "    </tr>\n",
       "    <tr>\n",
       "      <th>75%</th>\n",
       "      <td>48.000000</td>\n",
       "      <td>2.370510e+05</td>\n",
       "      <td>12.000000</td>\n",
       "      <td>0.000000</td>\n",
       "      <td>0.000000</td>\n",
       "      <td>45.000000</td>\n",
       "      <td>0.000000</td>\n",
       "    </tr>\n",
       "    <tr>\n",
       "      <th>max</th>\n",
       "      <td>90.000000</td>\n",
       "      <td>1.484705e+06</td>\n",
       "      <td>16.000000</td>\n",
       "      <td>99999.000000</td>\n",
       "      <td>4356.000000</td>\n",
       "      <td>99.000000</td>\n",
       "      <td>1.000000</td>\n",
       "    </tr>\n",
       "  </tbody>\n",
       "</table>\n",
       "</div>"
      ],
      "text/plain": [
       "                age        fnlwgt  education-num  capital-gain  captial-loss  \\\n",
       "count  32561.000000  3.256100e+04   32561.000000  32561.000000  32561.000000   \n",
       "mean      38.581647  1.897784e+05      10.080679   1077.648844     87.303830   \n",
       "std       13.640433  1.055500e+05       2.572720   7385.292085    402.960219   \n",
       "min       17.000000  1.228500e+04       1.000000      0.000000      0.000000   \n",
       "25%       28.000000  1.178270e+05       9.000000      0.000000      0.000000   \n",
       "50%       37.000000  1.783560e+05      10.000000      0.000000      0.000000   \n",
       "75%       48.000000  2.370510e+05      12.000000      0.000000      0.000000   \n",
       "max       90.000000  1.484705e+06      16.000000  99999.000000   4356.000000   \n",
       "\n",
       "       hours-per-week        salary  \n",
       "count    32561.000000  32561.000000  \n",
       "mean        40.437456      0.240810  \n",
       "std         12.347429      0.427581  \n",
       "min          1.000000      0.000000  \n",
       "25%         40.000000      0.000000  \n",
       "50%         40.000000      0.000000  \n",
       "75%         45.000000      0.000000  \n",
       "max         99.000000      1.000000  "
      ]
     },
     "execution_count": 10,
     "metadata": {},
     "output_type": "execute_result"
    }
   ],
   "source": [
    "df.describe()"
   ]
  },
  {
   "cell_type": "code",
   "execution_count": 11,
   "id": "83e3f37a",
   "metadata": {},
   "outputs": [
    {
     "data": {
      "text/plain": [
       "age                int64\n",
       "workclass         object\n",
       "fnlwgt             int64\n",
       "education         object\n",
       "education-num      int64\n",
       "marital-status    object\n",
       "occupation        object\n",
       "relationship      object\n",
       "race              object\n",
       "sex               object\n",
       "capital-gain       int64\n",
       "captial-loss       int64\n",
       "hours-per-week     int64\n",
       "native-country    object\n",
       "salary             int64\n",
       "dtype: object"
      ]
     },
     "execution_count": 11,
     "metadata": {},
     "output_type": "execute_result"
    }
   ],
   "source": [
    "df.dtypes"
   ]
  },
  {
   "cell_type": "code",
   "execution_count": 12,
   "id": "697098d7",
   "metadata": {},
   "outputs": [
    {
     "name": "stdout",
     "output_type": "stream",
     "text": [
      "<class 'pandas.core.frame.DataFrame'>\n",
      "RangeIndex: 32561 entries, 0 to 32560\n",
      "Data columns (total 15 columns):\n",
      " #   Column          Non-Null Count  Dtype \n",
      "---  ------          --------------  ----- \n",
      " 0   age             32561 non-null  int64 \n",
      " 1   workclass       32561 non-null  object\n",
      " 2   fnlwgt          32561 non-null  int64 \n",
      " 3   education       32561 non-null  object\n",
      " 4   education-num   32561 non-null  int64 \n",
      " 5   marital-status  32561 non-null  object\n",
      " 6   occupation      32561 non-null  object\n",
      " 7   relationship    32561 non-null  object\n",
      " 8   race            32561 non-null  object\n",
      " 9   sex             32561 non-null  object\n",
      " 10  capital-gain    32561 non-null  int64 \n",
      " 11  captial-loss    32561 non-null  int64 \n",
      " 12  hours-per-week  32561 non-null  int64 \n",
      " 13  native-country  32561 non-null  object\n",
      " 14  salary          32561 non-null  int64 \n",
      "dtypes: int64(7), object(8)\n",
      "memory usage: 3.7+ MB\n"
     ]
    }
   ],
   "source": [
    "df.info()"
   ]
  },
  {
   "cell_type": "markdown",
   "id": "f395c2d2",
   "metadata": {},
   "source": [
    "## Checking null values"
   ]
  },
  {
   "cell_type": "code",
   "execution_count": 13,
   "id": "7f25d054",
   "metadata": {},
   "outputs": [
    {
     "data": {
      "text/plain": [
       "age               0\n",
       "workclass         0\n",
       "fnlwgt            0\n",
       "education         0\n",
       "education-num     0\n",
       "marital-status    0\n",
       "occupation        0\n",
       "relationship      0\n",
       "race              0\n",
       "sex               0\n",
       "capital-gain      0\n",
       "captial-loss      0\n",
       "hours-per-week    0\n",
       "native-country    0\n",
       "salary            0\n",
       "dtype: int64"
      ]
     },
     "execution_count": 13,
     "metadata": {},
     "output_type": "execute_result"
    }
   ],
   "source": [
    "df.isnull().sum()"
   ]
  },
  {
   "cell_type": "code",
   "execution_count": 14,
   "id": "137eb1a2",
   "metadata": {},
   "outputs": [
    {
     "data": {
      "text/plain": [
       "age                  0\n",
       "workclass         1836\n",
       "fnlwgt               0\n",
       "education            0\n",
       "education-num        0\n",
       "marital-status       0\n",
       "occupation        1843\n",
       "relationship         0\n",
       "race                 0\n",
       "sex                  0\n",
       "capital-gain         0\n",
       "captial-loss         0\n",
       "hours-per-week       0\n",
       "native-country     583\n",
       "salary               0\n",
       "dtype: int64"
      ]
     },
     "execution_count": 14,
     "metadata": {},
     "output_type": "execute_result"
    }
   ],
   "source": [
    "df.isin(['?']).sum()"
   ]
  },
  {
   "cell_type": "markdown",
   "id": "741b1bdf",
   "metadata": {},
   "source": [
    "Three columns have null values : \n",
    "1. workclass\n",
    "2. occupation\n",
    "3. native-country"
   ]
  },
  {
   "cell_type": "markdown",
   "id": "f71573ff",
   "metadata": {},
   "source": [
    "## Handling Missing Values"
   ]
  },
  {
   "cell_type": "markdown",
   "id": "ef902a23",
   "metadata": {},
   "source": [
    "### 1. Workclass\n",
    "* Replacing '?' with mode of Workclass of that Education group"
   ]
  },
  {
   "cell_type": "code",
   "execution_count": 15,
   "id": "504dee37",
   "metadata": {},
   "outputs": [],
   "source": [
    "workclass = df[df['workclass'].isin(['?'])]"
   ]
  },
  {
   "cell_type": "code",
   "execution_count": 16,
   "id": "38640302",
   "metadata": {},
   "outputs": [],
   "source": [
    "index = workclass.index\n",
    "education = workclass.education"
   ]
  },
  {
   "cell_type": "code",
   "execution_count": 17,
   "id": "bac96854",
   "metadata": {},
   "outputs": [],
   "source": [
    "for i in index:\n",
    "    mode = df[df['education'] == education[i]]['workclass'].mode()[0]\n",
    "    df.at[i, 'workclass'] = mode"
   ]
  },
  {
   "cell_type": "code",
   "execution_count": 18,
   "id": "665d8113",
   "metadata": {},
   "outputs": [
    {
     "data": {
      "text/plain": [
       "0"
      ]
     },
     "execution_count": 18,
     "metadata": {},
     "output_type": "execute_result"
    }
   ],
   "source": [
    "df.workclass.isin(['?']).sum()"
   ]
  },
  {
   "cell_type": "markdown",
   "id": "6dc4c6fe",
   "metadata": {},
   "source": [
    "### 2. Occupation\n",
    "* Replacing '?' with mode of Occupation of that Education group"
   ]
  },
  {
   "cell_type": "code",
   "execution_count": 19,
   "id": "fa8d85d5",
   "metadata": {},
   "outputs": [],
   "source": [
    "occupation = df[df['occupation'].isin(['?'])]"
   ]
  },
  {
   "cell_type": "code",
   "execution_count": 20,
   "id": "0012e7ac",
   "metadata": {},
   "outputs": [],
   "source": [
    "index = occupation.index\n",
    "education = occupation.education"
   ]
  },
  {
   "cell_type": "code",
   "execution_count": 21,
   "id": "fa4b1e15",
   "metadata": {},
   "outputs": [],
   "source": [
    "for i in index:\n",
    "    mode = df[df['education'] == education[i]]['occupation'].mode()[0]\n",
    "    df.at[i, 'occupation'] = mode"
   ]
  },
  {
   "cell_type": "code",
   "execution_count": 22,
   "id": "6a18fede",
   "metadata": {},
   "outputs": [
    {
     "data": {
      "text/plain": [
       "0"
      ]
     },
     "execution_count": 22,
     "metadata": {},
     "output_type": "execute_result"
    }
   ],
   "source": [
    "df.occupation.isin(['?']).sum()"
   ]
  },
  {
   "cell_type": "markdown",
   "id": "afb6e9bb",
   "metadata": {},
   "source": [
    "### 3. Native-Country\n",
    "* Replacing '?' with USA as it has way more samples than any other sample"
   ]
  },
  {
   "cell_type": "code",
   "execution_count": 23,
   "id": "5fe40ba4",
   "metadata": {},
   "outputs": [
    {
     "data": {
      "text/plain": [
       "United-States    29170\n",
       "Mexico             643\n",
       "?                  583\n",
       "Philippines        198\n",
       "Germany            137\n",
       "Name: native-country, dtype: int64"
      ]
     },
     "execution_count": 23,
     "metadata": {},
     "output_type": "execute_result"
    }
   ],
   "source": [
    "df['native-country'].value_counts().head()"
   ]
  },
  {
   "cell_type": "code",
   "execution_count": 24,
   "id": "3a274b76",
   "metadata": {},
   "outputs": [],
   "source": [
    "df['native-country'].replace({'?': 'United-States'}, inplace=True)"
   ]
  },
  {
   "cell_type": "code",
   "execution_count": 25,
   "id": "2245beae",
   "metadata": {},
   "outputs": [
    {
     "data": {
      "text/plain": [
       "United-States    29753\n",
       "Mexico             643\n",
       "Philippines        198\n",
       "Germany            137\n",
       "Canada             121\n",
       "Name: native-country, dtype: int64"
      ]
     },
     "execution_count": 25,
     "metadata": {},
     "output_type": "execute_result"
    }
   ],
   "source": [
    "df['native-country'].value_counts().head()"
   ]
  },
  {
   "cell_type": "markdown",
   "id": "15a7829a",
   "metadata": {},
   "source": [
    "## Splitting Variables"
   ]
  },
  {
   "cell_type": "code",
   "execution_count": 26,
   "id": "653adb16",
   "metadata": {},
   "outputs": [],
   "source": [
    "X = df.drop('salary', axis=1)\n",
    "y = df['salary']"
   ]
  },
  {
   "cell_type": "markdown",
   "id": "be00efc2",
   "metadata": {},
   "source": [
    "## EDA and Visualization"
   ]
  },
  {
   "cell_type": "code",
   "execution_count": 27,
   "id": "cde8956a",
   "metadata": {},
   "outputs": [
    {
     "data": {
      "text/html": [
       "<div>\n",
       "<style scoped>\n",
       "    .dataframe tbody tr th:only-of-type {\n",
       "        vertical-align: middle;\n",
       "    }\n",
       "\n",
       "    .dataframe tbody tr th {\n",
       "        vertical-align: top;\n",
       "    }\n",
       "\n",
       "    .dataframe thead th {\n",
       "        text-align: right;\n",
       "    }\n",
       "</style>\n",
       "<table border=\"1\" class=\"dataframe\">\n",
       "  <thead>\n",
       "    <tr style=\"text-align: right;\">\n",
       "      <th></th>\n",
       "      <th>age</th>\n",
       "      <th>fnlwgt</th>\n",
       "      <th>education-num</th>\n",
       "      <th>capital-gain</th>\n",
       "      <th>captial-loss</th>\n",
       "      <th>hours-per-week</th>\n",
       "    </tr>\n",
       "  </thead>\n",
       "  <tbody>\n",
       "    <tr>\n",
       "      <th>age</th>\n",
       "      <td>1.000000</td>\n",
       "      <td>-0.076646</td>\n",
       "      <td>0.036527</td>\n",
       "      <td>0.077674</td>\n",
       "      <td>0.057775</td>\n",
       "      <td>0.068756</td>\n",
       "    </tr>\n",
       "    <tr>\n",
       "      <th>fnlwgt</th>\n",
       "      <td>-0.076646</td>\n",
       "      <td>1.000000</td>\n",
       "      <td>-0.043195</td>\n",
       "      <td>0.000432</td>\n",
       "      <td>-0.010252</td>\n",
       "      <td>-0.018768</td>\n",
       "    </tr>\n",
       "    <tr>\n",
       "      <th>education-num</th>\n",
       "      <td>0.036527</td>\n",
       "      <td>-0.043195</td>\n",
       "      <td>1.000000</td>\n",
       "      <td>0.122630</td>\n",
       "      <td>0.079923</td>\n",
       "      <td>0.148123</td>\n",
       "    </tr>\n",
       "    <tr>\n",
       "      <th>capital-gain</th>\n",
       "      <td>0.077674</td>\n",
       "      <td>0.000432</td>\n",
       "      <td>0.122630</td>\n",
       "      <td>1.000000</td>\n",
       "      <td>-0.031615</td>\n",
       "      <td>0.078409</td>\n",
       "    </tr>\n",
       "    <tr>\n",
       "      <th>captial-loss</th>\n",
       "      <td>0.057775</td>\n",
       "      <td>-0.010252</td>\n",
       "      <td>0.079923</td>\n",
       "      <td>-0.031615</td>\n",
       "      <td>1.000000</td>\n",
       "      <td>0.054256</td>\n",
       "    </tr>\n",
       "    <tr>\n",
       "      <th>hours-per-week</th>\n",
       "      <td>0.068756</td>\n",
       "      <td>-0.018768</td>\n",
       "      <td>0.148123</td>\n",
       "      <td>0.078409</td>\n",
       "      <td>0.054256</td>\n",
       "      <td>1.000000</td>\n",
       "    </tr>\n",
       "  </tbody>\n",
       "</table>\n",
       "</div>"
      ],
      "text/plain": [
       "                     age    fnlwgt  education-num  capital-gain  captial-loss  \\\n",
       "age             1.000000 -0.076646       0.036527      0.077674      0.057775   \n",
       "fnlwgt         -0.076646  1.000000      -0.043195      0.000432     -0.010252   \n",
       "education-num   0.036527 -0.043195       1.000000      0.122630      0.079923   \n",
       "capital-gain    0.077674  0.000432       0.122630      1.000000     -0.031615   \n",
       "captial-loss    0.057775 -0.010252       0.079923     -0.031615      1.000000   \n",
       "hours-per-week  0.068756 -0.018768       0.148123      0.078409      0.054256   \n",
       "\n",
       "                hours-per-week  \n",
       "age                   0.068756  \n",
       "fnlwgt               -0.018768  \n",
       "education-num         0.148123  \n",
       "capital-gain          0.078409  \n",
       "captial-loss          0.054256  \n",
       "hours-per-week        1.000000  "
      ]
     },
     "execution_count": 27,
     "metadata": {},
     "output_type": "execute_result"
    }
   ],
   "source": [
    "correlation = X.corr()\n",
    "correlation"
   ]
  },
  {
   "cell_type": "code",
   "execution_count": 28,
   "id": "c0dd7f15",
   "metadata": {},
   "outputs": [
    {
     "data": {
      "image/png": "[encoded data removed]",
      "text/plain": [
       "<Figure size 432x288 with 2 Axes>"
      ]
     },
     "metadata": {
      "needs_background": "light"
     },
     "output_type": "display_data"
    }
   ],
   "source": [
    "sns.heatmap(data=correlation, cmap='Reds')\n",
    "plt.title('Correlation of Numerical Variables')\n",
    "plt.show()"
   ]
  },
  {
   "cell_type": "markdown",
   "id": "16fd212a",
   "metadata": {},
   "source": [
    "### Exploring Numerical Variables"
   ]
  },
  {
   "cell_type": "code",
   "execution_count": 29,
   "id": "152debfe",
   "metadata": {},
   "outputs": [
    {
     "data": {
      "text/plain": [
       "['age',\n",
       " 'fnlwgt',\n",
       " 'education-num',\n",
       " 'capital-gain',\n",
       " 'captial-loss',\n",
       " 'hours-per-week']"
      ]
     },
     "execution_count": 29,
     "metadata": {},
     "output_type": "execute_result"
    }
   ],
   "source": [
    "numerical_features = [feature for feature in X.columns \\\n",
    "                      if X[feature].dtype == 'int64' \\\n",
    "                      or X[feature].dtype == 'float64']\n",
    "numerical_features"
   ]
  },
  {
   "cell_type": "code",
   "execution_count": 30,
   "id": "7368256a",
   "metadata": {},
   "outputs": [
    {
     "data": {
      "image/png": "[encoded data removed]",
      "text/plain": [
       "<Figure size 432x288 with 1 Axes>"
      ]
     },
     "metadata": {
      "needs_background": "light"
     },
     "output_type": "display_data"
    },
    {
     "data": {
      "image/png": "[encoded data removed]",
      "text/plain": [
       "<Figure size 432x288 with 1 Axes>"
      ]
     },
     "metadata": {
      "needs_background": "light"
     },
     "output_type": "display_data"
    },
    {
     "data": {
      "image/png": "[encoded data removed]",
      "text/plain": [
       "<Figure size 432x288 with 1 Axes>"
      ]
     },
     "metadata": {
      "needs_background": "light"
     },
     "output_type": "display_data"
    },
    {
     "data": {
      "image/png": "[encoded data removed]",
      "text/plain": [
       "<Figure size 432x288 with 1 Axes>"
      ]
     },
     "metadata": {
      "needs_background": "light"
     },
     "output_type": "display_data"
    },
    {
     "data": {
      "image/png": "[encoded data removed]",
      "text/plain": [
       "<Figure size 432x288 with 1 Axes>"
      ]
     },
     "metadata": {
      "needs_background": "light"
     },
     "output_type": "display_data"
    },
    {
     "data": {
      "image/png": "[encoded data removed]",
      "text/plain": [
       "<Figure size 432x288 with 1 Axes>"
      ]
     },
     "metadata": {
      "needs_background": "light"
     },
     "output_type": "display_data"
    }
   ],
   "source": [
    "for feature in numerical_features:\n",
    "    sns.boxplot(data=X[feature])\n",
    "    plt.title('Feature: {}'.format(feature))\n",
    "    plt.show()"
   ]
  },
  {
   "cell_type": "markdown",
   "id": "9f80aac4",
   "metadata": {},
   "source": [
    "The above data has many outliers  \n",
    "We have to use scaling for better results"
   ]
  },
  {
   "cell_type": "markdown",
   "id": "34f58b64",
   "metadata": {},
   "source": [
    "## Exploting categorical features"
   ]
  },
  {
   "cell_type": "code",
   "execution_count": 31,
   "id": "993e6487",
   "metadata": {},
   "outputs": [
    {
     "data": {
      "text/plain": [
       "['workclass',\n",
       " 'education',\n",
       " 'marital-status',\n",
       " 'occupation',\n",
       " 'relationship',\n",
       " 'race',\n",
       " 'sex',\n",
       " 'native-country']"
      ]
     },
     "execution_count": 31,
     "metadata": {},
     "output_type": "execute_result"
    }
   ],
   "source": [
    "categorical_features = [feature for feature in X.columns if X[feature].dtype == 'object']\n",
    "categorical_features"
   ]
  },
  {
   "cell_type": "markdown",
   "id": "1c2b99b9",
   "metadata": {},
   "source": [
    "Checking how many number of categories each feature has."
   ]
  },
  {
   "cell_type": "code",
   "execution_count": 32,
   "id": "bee279dd",
   "metadata": {},
   "outputs": [
    {
     "name": "stdout",
     "output_type": "stream",
     "text": [
      "Feature:  workclass | Categories:  8\n",
      "Feature:  education | Categories:  16\n",
      "Feature:  marital-status | Categories:  7\n",
      "Feature:  occupation | Categories:  14\n",
      "Feature:  relationship | Categories:  6\n",
      "Feature:  race | Categories:  5\n",
      "Feature:  sex | Categories:  2\n",
      "Feature:  native-country | Categories:  41\n"
     ]
    }
   ],
   "source": [
    "categories = list()\n",
    "for feature in categorical_features:\n",
    "    cat = len(X[feature].unique())\n",
    "    print('Feature: ', feature,'| Categories: ', cat)\n",
    "    categories.append(cat)"
   ]
  },
  {
   "cell_type": "code",
   "execution_count": 33,
   "id": "dac3892f",
   "metadata": {},
   "outputs": [
    {
     "data": {
      "image/png": "[encoded data removed]",
      "text/plain": [
       "<Figure size 432x288 with 1 Axes>"
      ]
     },
     "metadata": {
      "needs_background": "light"
     },
     "output_type": "display_data"
    }
   ],
   "source": [
    "sns.barplot(x=categorical_features, y=categories)\n",
    "plt.xlabel('Features')\n",
    "plt.ylabel('No. of Categories')\n",
    "plt.xticks(rotation=90)\n",
    "plt.show()"
   ]
  },
  {
   "cell_type": "markdown",
   "id": "742b360d",
   "metadata": {},
   "source": [
    "## Now Features with more than 10 categories will be explored"
   ]
  },
  {
   "cell_type": "markdown",
   "id": "204133a3",
   "metadata": {},
   "source": [
    "### 1. Education\n",
    "* education and education-num features are identical, so we can drop 'education'"
   ]
  },
  {
   "cell_type": "code",
   "execution_count": 34,
   "id": "dae3fbc2",
   "metadata": {},
   "outputs": [],
   "source": [
    "X.drop('education', axis=1, inplace=True)"
   ]
  },
  {
   "cell_type": "code",
   "execution_count": 35,
   "id": "474cef00",
   "metadata": {},
   "outputs": [
    {
     "data": {
      "text/html": [
       "<div>\n",
       "<style scoped>\n",
       "    .dataframe tbody tr th:only-of-type {\n",
       "        vertical-align: middle;\n",
       "    }\n",
       "\n",
       "    .dataframe tbody tr th {\n",
       "        vertical-align: top;\n",
       "    }\n",
       "\n",
       "    .dataframe thead th {\n",
       "        text-align: right;\n",
       "    }\n",
       "</style>\n",
       "<table border=\"1\" class=\"dataframe\">\n",
       "  <thead>\n",
       "    <tr style=\"text-align: right;\">\n",
       "      <th></th>\n",
       "      <th>age</th>\n",
       "      <th>workclass</th>\n",
       "      <th>fnlwgt</th>\n",
       "      <th>education-num</th>\n",
       "      <th>marital-status</th>\n",
       "      <th>occupation</th>\n",
       "      <th>relationship</th>\n",
       "      <th>race</th>\n",
       "      <th>sex</th>\n",
       "      <th>capital-gain</th>\n",
       "      <th>captial-loss</th>\n",
       "      <th>hours-per-week</th>\n",
       "      <th>native-country</th>\n",
       "    </tr>\n",
       "  </thead>\n",
       "  <tbody>\n",
       "    <tr>\n",
       "      <th>0</th>\n",
       "      <td>39</td>\n",
       "      <td>State-gov</td>\n",
       "      <td>77516</td>\n",
       "      <td>13</td>\n",
       "      <td>Never-married</td>\n",
       "      <td>Adm-clerical</td>\n",
       "      <td>Not-in-family</td>\n",
       "      <td>White</td>\n",
       "      <td>Male</td>\n",
       "      <td>2174</td>\n",
       "      <td>0</td>\n",
       "      <td>40</td>\n",
       "      <td>United-States</td>\n",
       "    </tr>\n",
       "    <tr>\n",
       "      <th>1</th>\n",
       "      <td>50</td>\n",
       "      <td>Self-emp-not-inc</td>\n",
       "      <td>83311</td>\n",
       "      <td>13</td>\n",
       "      <td>Married-civ-spouse</td>\n",
       "      <td>Exec-managerial</td>\n",
       "      <td>Husband</td>\n",
       "      <td>White</td>\n",
       "      <td>Male</td>\n",
       "      <td>0</td>\n",
       "      <td>0</td>\n",
       "      <td>13</td>\n",
       "      <td>United-States</td>\n",
       "    </tr>\n",
       "    <tr>\n",
       "      <th>2</th>\n",
       "      <td>38</td>\n",
       "      <td>Private</td>\n",
       "      <td>215646</td>\n",
       "      <td>9</td>\n",
       "      <td>Divorced</td>\n",
       "      <td>Handlers-cleaners</td>\n",
       "      <td>Not-in-family</td>\n",
       "      <td>White</td>\n",
       "      <td>Male</td>\n",
       "      <td>0</td>\n",
       "      <td>0</td>\n",
       "      <td>40</td>\n",
       "      <td>United-States</td>\n",
       "    </tr>\n",
       "  </tbody>\n",
       "</table>\n",
       "</div>"
      ],
      "text/plain": [
       "   age         workclass  fnlwgt  education-num      marital-status  \\\n",
       "0   39         State-gov   77516             13       Never-married   \n",
       "1   50  Self-emp-not-inc   83311             13  Married-civ-spouse   \n",
       "2   38           Private  215646              9            Divorced   \n",
       "\n",
       "          occupation   relationship   race   sex  capital-gain  captial-loss  \\\n",
       "0       Adm-clerical  Not-in-family  White  Male          2174             0   \n",
       "1    Exec-managerial        Husband  White  Male             0             0   \n",
       "2  Handlers-cleaners  Not-in-family  White  Male             0             0   \n",
       "\n",
       "   hours-per-week native-country  \n",
       "0              40  United-States  \n",
       "1              13  United-States  \n",
       "2              40  United-States  "
      ]
     },
     "execution_count": 35,
     "metadata": {},
     "output_type": "execute_result"
    }
   ],
   "source": [
    "X.head(3)"
   ]
  },
  {
   "cell_type": "markdown",
   "id": "b97224c7",
   "metadata": {},
   "source": [
    "### 2. Occupation"
   ]
  },
  {
   "cell_type": "code",
   "execution_count": 36,
   "id": "ccfb5cbc",
   "metadata": {},
   "outputs": [
    {
     "data": {
      "image/png": "[encoded data removed]",
      "text/plain": [
       "<Figure size 432x288 with 1 Axes>"
      ]
     },
     "metadata": {
      "needs_background": "light"
     },
     "output_type": "display_data"
    }
   ],
   "source": [
    "val_counts = X['occupation'].value_counts()\n",
    "sns.barplot(x=val_counts.index, y=val_counts.values)\n",
    "plt.xlabel('Occupation')\n",
    "plt.ylabel('Counts')\n",
    "plt.xticks(rotation=90)\n",
    "plt.show()"
   ]
  },
  {
   "cell_type": "markdown",
   "id": "fb5282a0",
   "metadata": {},
   "source": [
    "*Since each category is evenly distributed and has good amount of samples we have to compare it with the target salary*"
   ]
  },
  {
   "cell_type": "code",
   "execution_count": 37,
   "id": "47962fd2",
   "metadata": {},
   "outputs": [],
   "source": [
    "def get_percentage(df):\n",
    "    val = df.values[0]\n",
    "    total = df.values.sum()\n",
    "    perc = val/total\n",
    "    return perc"
   ]
  },
  {
   "cell_type": "code",
   "execution_count": 38,
   "id": "c58a4939",
   "metadata": {},
   "outputs": [
    {
     "data": {
      "text/plain": [
       "Index(['Craft-repair', 'Prof-specialty', 'Adm-clerical', 'Exec-managerial',\n",
       "       'Other-service', 'Sales', 'Machine-op-inspct', 'Transport-moving',\n",
       "       'Handlers-cleaners', 'Farming-fishing', 'Tech-support',\n",
       "       'Protective-serv', 'Priv-house-serv', 'Armed-Forces'],\n",
       "      dtype='object')"
      ]
     },
     "execution_count": 38,
     "metadata": {},
     "output_type": "execute_result"
    }
   ],
   "source": [
    "index = val_counts.index\n",
    "index"
   ]
  },
  {
   "cell_type": "code",
   "execution_count": 39,
   "id": "be5f4701",
   "metadata": {},
   "outputs": [
    {
     "data": {
      "text/plain": [
       "[['Craft-repair', 'Transport-moving'],\n",
       " ['Adm-clerical', 'Machine-op-inspct'],\n",
       " ['Adm-clerical', 'Farming-fishing'],\n",
       " ['Adm-clerical', 'Armed-Forces'],\n",
       " ['Machine-op-inspct', 'Farming-fishing'],\n",
       " ['Machine-op-inspct', 'Armed-Forces'],\n",
       " ['Farming-fishing', 'Armed-Forces']]"
      ]
     },
     "execution_count": 39,
     "metadata": {},
     "output_type": "execute_result"
    }
   ],
   "source": [
    "join_together = list()\n",
    "for i in range(len(index)):\n",
    "    for j in range(i+1, len(index)):\n",
    "        perc1 = get_percentage(df[df['occupation'] == index[i]]['salary'].value_counts())\n",
    "        perc2 = get_percentage(df[df['occupation'] == index[j]]['salary'].value_counts())\n",
    "        if abs(perc1 - perc2) < 0.02:\n",
    "            join_together.append([index[i], index[j]])\n",
    "join_together"
   ]
  },
  {
   "cell_type": "markdown",
   "id": "d01b7c20",
   "metadata": {},
   "source": [
    "#### Making groups\n",
    "1. group1 : Craft-repair, Transport-moving\n",
    "2. group2 : Adm-clerical, Machine-op-inspct, Farm-fishing, Armed-Forces"
   ]
  },
  {
   "cell_type": "code",
   "execution_count": 40,
   "id": "d8ae756e",
   "metadata": {},
   "outputs": [],
   "source": [
    "grp1 = ['Craft-repair', 'Transport-moving']\n",
    "grp2 = ['Adm-clerical', 'Machine-op-inspct', 'Farm-fishing', 'Armed-Forces']\n",
    "X['occupation'].replace(grp1, 'custom_group1',inplace=True)\n",
    "X['occupation'].replace(grp2, 'custom_group2', inplace=True)"
   ]
  },
  {
   "cell_type": "code",
   "execution_count": 41,
   "id": "4739dc63",
   "metadata": {},
   "outputs": [
    {
     "data": {
      "text/plain": [
       "custom_group1        6363\n",
       "custom_group2        6344\n",
       "Prof-specialty       4394\n",
       "Exec-managerial      4066\n",
       "Other-service        3654\n",
       "Sales                3650\n",
       "Handlers-cleaners    1370\n",
       "Farming-fishing       994\n",
       "Tech-support          928\n",
       "Protective-serv       649\n",
       "Priv-house-serv       149\n",
       "Name: occupation, dtype: int64"
      ]
     },
     "execution_count": 41,
     "metadata": {},
     "output_type": "execute_result"
    }
   ],
   "source": [
    "X['occupation'].value_counts()"
   ]
  },
  {
   "cell_type": "markdown",
   "id": "afd42feb",
   "metadata": {},
   "source": [
    "### Native-Country"
   ]
  },
  {
   "cell_type": "code",
   "execution_count": 42,
   "id": "be4c2cd3",
   "metadata": {},
   "outputs": [
    {
     "data": {
      "text/plain": [
       "United-States    29753\n",
       "Mexico             643\n",
       "Philippines        198\n",
       "Germany            137\n",
       "Canada             121\n",
       "Name: native-country, dtype: int64"
      ]
     },
     "execution_count": 42,
     "metadata": {},
     "output_type": "execute_result"
    }
   ],
   "source": [
    "country_val_count = X['native-country'].value_counts()\n",
    "country_val_count.head()"
   ]
  },
  {
   "cell_type": "code",
   "execution_count": 43,
   "id": "7e19f325",
   "metadata": {},
   "outputs": [
    {
     "data": {
      "text/plain": [
       "794.170731707317"
      ]
     },
     "execution_count": 43,
     "metadata": {},
     "output_type": "execute_result"
    }
   ],
   "source": [
    "country_val_count.values.mean()"
   ]
  },
  {
   "cell_type": "markdown",
   "id": "3d48a230",
   "metadata": {},
   "source": [
    "#### Since all other values are less than mean, they will be grouped togther as Other"
   ]
  },
  {
   "cell_type": "code",
   "execution_count": 44,
   "id": "86057963",
   "metadata": {},
   "outputs": [],
   "source": [
    "other = list(country_val_count.index)\n",
    "other.remove('United-States')"
   ]
  },
  {
   "cell_type": "code",
   "execution_count": 45,
   "id": "813798a3",
   "metadata": {},
   "outputs": [],
   "source": [
    "X['native-country'].replace(other, 'Other', inplace=True)"
   ]
  },
  {
   "cell_type": "markdown",
   "id": "2fb31974",
   "metadata": {},
   "source": [
    "Handle all features, lets have a final check"
   ]
  },
  {
   "cell_type": "markdown",
   "id": "8e23dbb9",
   "metadata": {},
   "source": [
    "## Final Check "
   ]
  },
  {
   "cell_type": "code",
   "execution_count": 46,
   "id": "7d3764a3",
   "metadata": {},
   "outputs": [
    {
     "name": "stdout",
     "output_type": "stream",
     "text": [
      "Feature:  workclass | Categories:  8\n",
      "Feature:  marital-status | Categories:  7\n",
      "Feature:  occupation | Categories:  11\n",
      "Feature:  relationship | Categories:  6\n",
      "Feature:  race | Categories:  5\n",
      "Feature:  sex | Categories:  2\n",
      "Feature:  native-country | Categories:  2\n"
     ]
    }
   ],
   "source": [
    "categorical_features = [feature for feature in X.columns if X[feature].dtype == 'object']\n",
    "categories = list()\n",
    "for feature in categorical_features:\n",
    "    cat = len(X[feature].unique())\n",
    "    print('Feature: ', feature,'| Categories: ', cat)\n",
    "    categories.append(cat)"
   ]
  },
  {
   "cell_type": "code",
   "execution_count": 47,
   "id": "7b64ac86",
   "metadata": {},
   "outputs": [
    {
     "data": {
      "image/png": "[encoded data removed]",
      "text/plain": [
       "<Figure size 432x288 with 1 Axes>"
      ]
     },
     "metadata": {
      "needs_background": "light"
     },
     "output_type": "display_data"
    }
   ],
   "source": [
    "sns.barplot(x=categorical_features, y=categories)\n",
    "plt.xlabel('Features')\n",
    "plt.ylabel('No. of Categories')\n",
    "plt.xticks(rotation=90)\n",
    "plt.show()"
   ]
  },
  {
   "cell_type": "markdown",
   "id": "134ae3b4",
   "metadata": {},
   "source": [
    "Ended Exploratory Data Analysis & Feature Engineering"
   ]
  },
  {
   "cell_type": "markdown",
   "id": "953bfe14",
   "metadata": {},
   "source": [
    "# Model Development"
   ]
  },
  {
   "cell_type": "code",
   "execution_count": 48,
   "id": "48d4fac6",
   "metadata": {},
   "outputs": [
    {
     "data": {
      "text/html": [
       "<div>\n",
       "<style scoped>\n",
       "    .dataframe tbody tr th:only-of-type {\n",
       "        vertical-align: middle;\n",
       "    }\n",
       "\n",
       "    .dataframe tbody tr th {\n",
       "        vertical-align: top;\n",
       "    }\n",
       "\n",
       "    .dataframe thead th {\n",
       "        text-align: right;\n",
       "    }\n",
       "</style>\n",
       "<table border=\"1\" class=\"dataframe\">\n",
       "  <thead>\n",
       "    <tr style=\"text-align: right;\">\n",
       "      <th></th>\n",
       "      <th>age</th>\n",
       "      <th>workclass</th>\n",
       "      <th>fnlwgt</th>\n",
       "      <th>education-num</th>\n",
       "      <th>marital-status</th>\n",
       "      <th>occupation</th>\n",
       "      <th>relationship</th>\n",
       "      <th>race</th>\n",
       "      <th>sex</th>\n",
       "      <th>capital-gain</th>\n",
       "      <th>captial-loss</th>\n",
       "      <th>hours-per-week</th>\n",
       "      <th>native-country</th>\n",
       "    </tr>\n",
       "  </thead>\n",
       "  <tbody>\n",
       "    <tr>\n",
       "      <th>0</th>\n",
       "      <td>39</td>\n",
       "      <td>State-gov</td>\n",
       "      <td>77516</td>\n",
       "      <td>13</td>\n",
       "      <td>Never-married</td>\n",
       "      <td>custom_group2</td>\n",
       "      <td>Not-in-family</td>\n",
       "      <td>White</td>\n",
       "      <td>Male</td>\n",
       "      <td>2174</td>\n",
       "      <td>0</td>\n",
       "      <td>40</td>\n",
       "      <td>United-States</td>\n",
       "    </tr>\n",
       "    <tr>\n",
       "      <th>1</th>\n",
       "      <td>50</td>\n",
       "      <td>Self-emp-not-inc</td>\n",
       "      <td>83311</td>\n",
       "      <td>13</td>\n",
       "      <td>Married-civ-spouse</td>\n",
       "      <td>Exec-managerial</td>\n",
       "      <td>Husband</td>\n",
       "      <td>White</td>\n",
       "      <td>Male</td>\n",
       "      <td>0</td>\n",
       "      <td>0</td>\n",
       "      <td>13</td>\n",
       "      <td>United-States</td>\n",
       "    </tr>\n",
       "    <tr>\n",
       "      <th>2</th>\n",
       "      <td>38</td>\n",
       "      <td>Private</td>\n",
       "      <td>215646</td>\n",
       "      <td>9</td>\n",
       "      <td>Divorced</td>\n",
       "      <td>Handlers-cleaners</td>\n",
       "      <td>Not-in-family</td>\n",
       "      <td>White</td>\n",
       "      <td>Male</td>\n",
       "      <td>0</td>\n",
       "      <td>0</td>\n",
       "      <td>40</td>\n",
       "      <td>United-States</td>\n",
       "    </tr>\n",
       "    <tr>\n",
       "      <th>3</th>\n",
       "      <td>53</td>\n",
       "      <td>Private</td>\n",
       "      <td>234721</td>\n",
       "      <td>7</td>\n",
       "      <td>Married-civ-spouse</td>\n",
       "      <td>Handlers-cleaners</td>\n",
       "      <td>Husband</td>\n",
       "      <td>Black</td>\n",
       "      <td>Male</td>\n",
       "      <td>0</td>\n",
       "      <td>0</td>\n",
       "      <td>40</td>\n",
       "      <td>United-States</td>\n",
       "    </tr>\n",
       "    <tr>\n",
       "      <th>4</th>\n",
       "      <td>28</td>\n",
       "      <td>Private</td>\n",
       "      <td>338409</td>\n",
       "      <td>13</td>\n",
       "      <td>Married-civ-spouse</td>\n",
       "      <td>Prof-specialty</td>\n",
       "      <td>Wife</td>\n",
       "      <td>Black</td>\n",
       "      <td>Female</td>\n",
       "      <td>0</td>\n",
       "      <td>0</td>\n",
       "      <td>40</td>\n",
       "      <td>Other</td>\n",
       "    </tr>\n",
       "  </tbody>\n",
       "</table>\n",
       "</div>"
      ],
      "text/plain": [
       "   age         workclass  fnlwgt  education-num      marital-status  \\\n",
       "0   39         State-gov   77516             13       Never-married   \n",
       "1   50  Self-emp-not-inc   83311             13  Married-civ-spouse   \n",
       "2   38           Private  215646              9            Divorced   \n",
       "3   53           Private  234721              7  Married-civ-spouse   \n",
       "4   28           Private  338409             13  Married-civ-spouse   \n",
       "\n",
       "          occupation   relationship   race     sex  capital-gain  \\\n",
       "0      custom_group2  Not-in-family  White    Male          2174   \n",
       "1    Exec-managerial        Husband  White    Male             0   \n",
       "2  Handlers-cleaners  Not-in-family  White    Male             0   \n",
       "3  Handlers-cleaners        Husband  Black    Male             0   \n",
       "4     Prof-specialty           Wife  Black  Female             0   \n",
       "\n",
       "   captial-loss  hours-per-week native-country  \n",
       "0             0              40  United-States  \n",
       "1             0              13  United-States  \n",
       "2             0              40  United-States  \n",
       "3             0              40  United-States  \n",
       "4             0              40          Other  "
      ]
     },
     "execution_count": 48,
     "metadata": {},
     "output_type": "execute_result"
    }
   ],
   "source": [
    "X.head()"
   ]
  },
  {
   "cell_type": "code",
   "execution_count": 49,
   "id": "e73391e8",
   "metadata": {},
   "outputs": [
    {
     "data": {
      "text/plain": [
       "0    0\n",
       "1    0\n",
       "2    0\n",
       "3    0\n",
       "4    0\n",
       "Name: salary, dtype: int64"
      ]
     },
     "execution_count": 49,
     "metadata": {},
     "output_type": "execute_result"
    }
   ],
   "source": [
    "y.head()"
   ]
  },
  {
   "cell_type": "code",
   "execution_count": 50,
   "id": "fc9be654",
   "metadata": {},
   "outputs": [],
   "source": [
    "from sklearn.model_selection import train_test_split\n",
    "X_train, X_test, y_train, y_test = train_test_split(X, y, train_size=0.7, random_state=42)"
   ]
  },
  {
   "cell_type": "markdown",
   "id": "f1a36589",
   "metadata": {},
   "source": [
    "## Using Robust Scaler & Random Forest"
   ]
  },
  {
   "cell_type": "code",
   "execution_count": 51,
   "id": "19ae7da3",
   "metadata": {},
   "outputs": [],
   "source": [
    "from sklearn.preprocessing import RobustScaler, OneHotEncoder\n",
    "from sklearn.ensemble import RandomForestClassifier"
   ]
  },
  {
   "cell_type": "code",
   "execution_count": 52,
   "id": "2a666e94",
   "metadata": {},
   "outputs": [],
   "source": [
    "encoder = OneHotEncoder(handle_unknown='ignore')\n",
    "robust = RobustScaler(with_centering=False)\n",
    "rfc = RandomForestClassifier()"
   ]
  },
  {
   "cell_type": "code",
   "execution_count": 53,
   "id": "77afbaf4",
   "metadata": {},
   "outputs": [],
   "source": [
    "encoder.fit(X)\n",
    "X_train_encoded = encoder.transform(X_train)\n",
    "X_train_scaled = robust.fit_transform(X_train_encoded)"
   ]
  },
  {
   "cell_type": "code",
   "execution_count": 54,
   "id": "d47fd11b",
   "metadata": {},
   "outputs": [
    {
     "data": {
      "text/plain": [
       "RandomForestClassifier()"
      ]
     },
     "execution_count": 54,
     "metadata": {},
     "output_type": "execute_result"
    }
   ],
   "source": [
    "rfc.fit(X_train_scaled, y_train)"
   ]
  },
  {
   "cell_type": "code",
   "execution_count": 55,
   "id": "9ab9bf7f",
   "metadata": {},
   "outputs": [],
   "source": [
    "y_pred = rfc.predict(X_train_scaled)"
   ]
  },
  {
   "cell_type": "markdown",
   "id": "8ad86e97",
   "metadata": {},
   "source": [
    "### Evaluation"
   ]
  },
  {
   "cell_type": "code",
   "execution_count": 56,
   "id": "d406ff05",
   "metadata": {},
   "outputs": [],
   "source": [
    "from sklearn.metrics import confusion_matrix, f1_score"
   ]
  },
  {
   "cell_type": "code",
   "execution_count": 57,
   "id": "c5389244",
   "metadata": {},
   "outputs": [
    {
     "data": {
      "text/plain": [
       "0.9999095268252963"
      ]
     },
     "execution_count": 57,
     "metadata": {},
     "output_type": "execute_result"
    }
   ],
   "source": [
    "f1_score(y_train, y_pred)"
   ]
  },
  {
   "cell_type": "code",
   "execution_count": 58,
   "id": "c7fd2ab2",
   "metadata": {},
   "outputs": [
    {
     "data": {
      "text/plain": [
       "array([[17265,     0],\n",
       "       [    1,  5526]], dtype=int64)"
      ]
     },
     "execution_count": 58,
     "metadata": {},
     "output_type": "execute_result"
    }
   ],
   "source": [
    "confusion_matrix(y_train, y_pred)"
   ]
  },
  {
   "cell_type": "markdown",
   "id": "fce4702d",
   "metadata": {},
   "source": [
    "## Creating Pipeline"
   ]
  },
  {
   "cell_type": "code",
   "execution_count": 59,
   "id": "6a21d2f8",
   "metadata": {},
   "outputs": [],
   "source": [
    "from sklearn.pipeline import Pipeline"
   ]
  },
  {
   "cell_type": "code",
   "execution_count": 60,
   "id": "9adb6a57",
   "metadata": {},
   "outputs": [],
   "source": [
    "pipeline = Pipeline([('encoder', OneHotEncoder(handle_unknown='ignore')), ('scaler', RobustScaler(with_centering=False)),\n",
    "                    ('forest', RandomForestClassifier())])"
   ]
  },
  {
   "cell_type": "code",
   "execution_count": 61,
   "id": "e190e7f2",
   "metadata": {},
   "outputs": [
    {
     "data": {
      "text/plain": [
       "Pipeline(steps=[('encoder', OneHotEncoder(handle_unknown='ignore')),\n",
       "                ('scaler', RobustScaler(with_centering=False)),\n",
       "                ('forest', RandomForestClassifier())])"
      ]
     },
     "execution_count": 61,
     "metadata": {},
     "output_type": "execute_result"
    }
   ],
   "source": [
    "pipeline.fit(X_train, y_train)"
   ]
  },
  {
   "cell_type": "code",
   "execution_count": 62,
   "id": "f818d8e5",
   "metadata": {},
   "outputs": [
    {
     "data": {
      "text/plain": [
       "1.0"
      ]
     },
     "execution_count": 62,
     "metadata": {},
     "output_type": "execute_result"
    }
   ],
   "source": [
    "pipeline.score(X_train, y_train)"
   ]
  },
  {
   "cell_type": "code",
   "execution_count": 63,
   "id": "ab865473",
   "metadata": {},
   "outputs": [],
   "source": [
    "y_pred = pipeline.predict(X_train)"
   ]
  },
  {
   "cell_type": "code",
   "execution_count": 64,
   "id": "63badc32",
   "metadata": {},
   "outputs": [
    {
     "data": {
      "text/plain": [
       "1.0"
      ]
     },
     "execution_count": 64,
     "metadata": {},
     "output_type": "execute_result"
    }
   ],
   "source": [
    "f1_score(y_train, y_pred)"
   ]
  },
  {
   "cell_type": "code",
   "execution_count": 65,
   "id": "d800137f",
   "metadata": {},
   "outputs": [
    {
     "data": {
      "text/plain": [
       "array([[17265,     0],\n",
       "       [    0,  5527]], dtype=int64)"
      ]
     },
     "execution_count": 65,
     "metadata": {},
     "output_type": "execute_result"
    }
   ],
   "source": [
    "confusion_matrix(y_train, y_pred)"
   ]
  },
  {
   "cell_type": "markdown",
   "id": "4eff93bc",
   "metadata": {},
   "source": [
    "## Testing on Test Data"
   ]
  },
  {
   "cell_type": "code",
   "execution_count": 66,
   "id": "1430004e",
   "metadata": {},
   "outputs": [],
   "source": [
    "y_pred = pipeline.predict(X_test)"
   ]
  },
  {
   "cell_type": "code",
   "execution_count": 67,
   "id": "56e4a237",
   "metadata": {},
   "outputs": [
    {
     "data": {
      "text/plain": [
       "0.6387851630570077"
      ]
     },
     "execution_count": 67,
     "metadata": {},
     "output_type": "execute_result"
    }
   ],
   "source": [
    "f1_score(y_test, y_pred)"
   ]
  },
  {
   "cell_type": "code",
   "execution_count": 68,
   "id": "1355bb28",
   "metadata": {},
   "outputs": [
    {
     "data": {
      "text/plain": [
       "array([[7035,  420],\n",
       "       [1031, 1283]], dtype=int64)"
      ]
     },
     "execution_count": 68,
     "metadata": {},
     "output_type": "execute_result"
    }
   ],
   "source": [
    "confusion_matrix(y_test, y_pred)"
   ]
  },
  {
   "cell_type": "markdown",
   "id": "958c9ca1",
   "metadata": {},
   "source": [
    "The model is overfitting"
   ]
  },
  {
   "cell_type": "markdown",
   "id": "9139838e",
   "metadata": {},
   "source": [
    "## Undersampling"
   ]
  },
  {
   "cell_type": "code",
   "execution_count": 69,
   "id": "c5650956",
   "metadata": {},
   "outputs": [
    {
     "data": {
      "text/html": [
       "<div>\n",
       "<style scoped>\n",
       "    .dataframe tbody tr th:only-of-type {\n",
       "        vertical-align: middle;\n",
       "    }\n",
       "\n",
       "    .dataframe tbody tr th {\n",
       "        vertical-align: top;\n",
       "    }\n",
       "\n",
       "    .dataframe thead th {\n",
       "        text-align: right;\n",
       "    }\n",
       "</style>\n",
       "<table border=\"1\" class=\"dataframe\">\n",
       "  <thead>\n",
       "    <tr style=\"text-align: right;\">\n",
       "      <th></th>\n",
       "      <th>age</th>\n",
       "      <th>workclass</th>\n",
       "      <th>fnlwgt</th>\n",
       "      <th>education-num</th>\n",
       "      <th>marital-status</th>\n",
       "      <th>occupation</th>\n",
       "      <th>relationship</th>\n",
       "      <th>race</th>\n",
       "      <th>sex</th>\n",
       "      <th>capital-gain</th>\n",
       "      <th>captial-loss</th>\n",
       "      <th>hours-per-week</th>\n",
       "      <th>native-country</th>\n",
       "      <th>salary</th>\n",
       "    </tr>\n",
       "  </thead>\n",
       "  <tbody>\n",
       "    <tr>\n",
       "      <th>19749</th>\n",
       "      <td>34</td>\n",
       "      <td>Self-emp-not-inc</td>\n",
       "      <td>56460</td>\n",
       "      <td>9</td>\n",
       "      <td>Married-civ-spouse</td>\n",
       "      <td>Farming-fishing</td>\n",
       "      <td>Wife</td>\n",
       "      <td>White</td>\n",
       "      <td>Female</td>\n",
       "      <td>0</td>\n",
       "      <td>2179</td>\n",
       "      <td>12</td>\n",
       "      <td>United-States</td>\n",
       "      <td>0</td>\n",
       "    </tr>\n",
       "    <tr>\n",
       "      <th>1216</th>\n",
       "      <td>48</td>\n",
       "      <td>Self-emp-not-inc</td>\n",
       "      <td>243631</td>\n",
       "      <td>10</td>\n",
       "      <td>Married-civ-spouse</td>\n",
       "      <td>custom_group1</td>\n",
       "      <td>Husband</td>\n",
       "      <td>Amer-Indian-Eskimo</td>\n",
       "      <td>Male</td>\n",
       "      <td>7688</td>\n",
       "      <td>0</td>\n",
       "      <td>40</td>\n",
       "      <td>United-States</td>\n",
       "      <td>1</td>\n",
       "    </tr>\n",
       "    <tr>\n",
       "      <th>27962</th>\n",
       "      <td>23</td>\n",
       "      <td>State-gov</td>\n",
       "      <td>56402</td>\n",
       "      <td>10</td>\n",
       "      <td>Married-civ-spouse</td>\n",
       "      <td>Prof-specialty</td>\n",
       "      <td>Husband</td>\n",
       "      <td>White</td>\n",
       "      <td>Male</td>\n",
       "      <td>0</td>\n",
       "      <td>0</td>\n",
       "      <td>30</td>\n",
       "      <td>United-States</td>\n",
       "      <td>0</td>\n",
       "    </tr>\n",
       "    <tr>\n",
       "      <th>23077</th>\n",
       "      <td>56</td>\n",
       "      <td>Local-gov</td>\n",
       "      <td>255406</td>\n",
       "      <td>9</td>\n",
       "      <td>Divorced</td>\n",
       "      <td>Exec-managerial</td>\n",
       "      <td>Not-in-family</td>\n",
       "      <td>White</td>\n",
       "      <td>Female</td>\n",
       "      <td>0</td>\n",
       "      <td>0</td>\n",
       "      <td>40</td>\n",
       "      <td>United-States</td>\n",
       "      <td>0</td>\n",
       "    </tr>\n",
       "    <tr>\n",
       "      <th>10180</th>\n",
       "      <td>17</td>\n",
       "      <td>Private</td>\n",
       "      <td>297246</td>\n",
       "      <td>7</td>\n",
       "      <td>Never-married</td>\n",
       "      <td>Priv-house-serv</td>\n",
       "      <td>Own-child</td>\n",
       "      <td>White</td>\n",
       "      <td>Female</td>\n",
       "      <td>0</td>\n",
       "      <td>0</td>\n",
       "      <td>9</td>\n",
       "      <td>United-States</td>\n",
       "      <td>0</td>\n",
       "    </tr>\n",
       "    <tr>\n",
       "      <th>...</th>\n",
       "      <td>...</td>\n",
       "      <td>...</td>\n",
       "      <td>...</td>\n",
       "      <td>...</td>\n",
       "      <td>...</td>\n",
       "      <td>...</td>\n",
       "      <td>...</td>\n",
       "      <td>...</td>\n",
       "      <td>...</td>\n",
       "      <td>...</td>\n",
       "      <td>...</td>\n",
       "      <td>...</td>\n",
       "      <td>...</td>\n",
       "      <td>...</td>\n",
       "    </tr>\n",
       "    <tr>\n",
       "      <th>29802</th>\n",
       "      <td>47</td>\n",
       "      <td>Private</td>\n",
       "      <td>359461</td>\n",
       "      <td>13</td>\n",
       "      <td>Married-civ-spouse</td>\n",
       "      <td>custom_group1</td>\n",
       "      <td>Husband</td>\n",
       "      <td>White</td>\n",
       "      <td>Male</td>\n",
       "      <td>0</td>\n",
       "      <td>0</td>\n",
       "      <td>40</td>\n",
       "      <td>United-States</td>\n",
       "      <td>0</td>\n",
       "    </tr>\n",
       "    <tr>\n",
       "      <th>5390</th>\n",
       "      <td>31</td>\n",
       "      <td>Private</td>\n",
       "      <td>147215</td>\n",
       "      <td>8</td>\n",
       "      <td>Divorced</td>\n",
       "      <td>Other-service</td>\n",
       "      <td>Unmarried</td>\n",
       "      <td>White</td>\n",
       "      <td>Female</td>\n",
       "      <td>0</td>\n",
       "      <td>0</td>\n",
       "      <td>21</td>\n",
       "      <td>United-States</td>\n",
       "      <td>0</td>\n",
       "    </tr>\n",
       "    <tr>\n",
       "      <th>860</th>\n",
       "      <td>18</td>\n",
       "      <td>Private</td>\n",
       "      <td>216284</td>\n",
       "      <td>7</td>\n",
       "      <td>Never-married</td>\n",
       "      <td>custom_group2</td>\n",
       "      <td>Own-child</td>\n",
       "      <td>White</td>\n",
       "      <td>Female</td>\n",
       "      <td>0</td>\n",
       "      <td>0</td>\n",
       "      <td>20</td>\n",
       "      <td>United-States</td>\n",
       "      <td>0</td>\n",
       "    </tr>\n",
       "    <tr>\n",
       "      <th>15795</th>\n",
       "      <td>50</td>\n",
       "      <td>Self-emp-not-inc</td>\n",
       "      <td>54261</td>\n",
       "      <td>9</td>\n",
       "      <td>Married-civ-spouse</td>\n",
       "      <td>Farming-fishing</td>\n",
       "      <td>Husband</td>\n",
       "      <td>White</td>\n",
       "      <td>Male</td>\n",
       "      <td>0</td>\n",
       "      <td>0</td>\n",
       "      <td>84</td>\n",
       "      <td>United-States</td>\n",
       "      <td>0</td>\n",
       "    </tr>\n",
       "    <tr>\n",
       "      <th>23654</th>\n",
       "      <td>34</td>\n",
       "      <td>Self-emp-inc</td>\n",
       "      <td>127651</td>\n",
       "      <td>13</td>\n",
       "      <td>Divorced</td>\n",
       "      <td>Farming-fishing</td>\n",
       "      <td>Not-in-family</td>\n",
       "      <td>White</td>\n",
       "      <td>Male</td>\n",
       "      <td>0</td>\n",
       "      <td>0</td>\n",
       "      <td>60</td>\n",
       "      <td>United-States</td>\n",
       "      <td>0</td>\n",
       "    </tr>\n",
       "  </tbody>\n",
       "</table>\n",
       "<p>22792 rows × 14 columns</p>\n",
       "</div>"
      ],
      "text/plain": [
       "       age         workclass  fnlwgt  education-num      marital-status  \\\n",
       "19749   34  Self-emp-not-inc   56460              9  Married-civ-spouse   \n",
       "1216    48  Self-emp-not-inc  243631             10  Married-civ-spouse   \n",
       "27962   23         State-gov   56402             10  Married-civ-spouse   \n",
       "23077   56         Local-gov  255406              9            Divorced   \n",
       "10180   17           Private  297246              7       Never-married   \n",
       "...    ...               ...     ...            ...                 ...   \n",
       "29802   47           Private  359461             13  Married-civ-spouse   \n",
       "5390    31           Private  147215              8            Divorced   \n",
       "860     18           Private  216284              7       Never-married   \n",
       "15795   50  Self-emp-not-inc   54261              9  Married-civ-spouse   \n",
       "23654   34      Self-emp-inc  127651             13            Divorced   \n",
       "\n",
       "            occupation   relationship                race     sex  \\\n",
       "19749  Farming-fishing           Wife               White  Female   \n",
       "1216     custom_group1        Husband  Amer-Indian-Eskimo    Male   \n",
       "27962   Prof-specialty        Husband               White    Male   \n",
       "23077  Exec-managerial  Not-in-family               White  Female   \n",
       "10180  Priv-house-serv      Own-child               White  Female   \n",
       "...                ...            ...                 ...     ...   \n",
       "29802    custom_group1        Husband               White    Male   \n",
       "5390     Other-service      Unmarried               White  Female   \n",
       "860      custom_group2      Own-child               White  Female   \n",
       "15795  Farming-fishing        Husband               White    Male   \n",
       "23654  Farming-fishing  Not-in-family               White    Male   \n",
       "\n",
       "       capital-gain  captial-loss  hours-per-week native-country  salary  \n",
       "19749             0          2179              12  United-States       0  \n",
       "1216           7688             0              40  United-States       1  \n",
       "27962             0             0              30  United-States       0  \n",
       "23077             0             0              40  United-States       0  \n",
       "10180             0             0               9  United-States       0  \n",
       "...             ...           ...             ...            ...     ...  \n",
       "29802             0             0              40  United-States       0  \n",
       "5390              0             0              21  United-States       0  \n",
       "860               0             0              20  United-States       0  \n",
       "15795             0             0              84  United-States       0  \n",
       "23654             0             0              60  United-States       0  \n",
       "\n",
       "[22792 rows x 14 columns]"
      ]
     },
     "execution_count": 69,
     "metadata": {},
     "output_type": "execute_result"
    }
   ],
   "source": [
    "df = pd.concat([X_train, y_train], axis=1)\n",
    "df.head()"
   ]
  },
  {
   "cell_type": "code",
   "execution_count": 70,
   "id": "e68671b4",
   "metadata": {},
   "outputs": [],
   "source": [
    "def get_undersample_set(df, num):\n",
    "    more_than_50 = df[df['salary']==1]\n",
    "    less_than_50 = df[df['salary']==0].sample(n=num, random_state=42)\n",
    "    train_df = pd.concat([more_than_50, less_than_50])\n",
    "    train_df = train_df.sample(frac=1)\n",
    "    X_train_us = train_df.drop('salary', axis=1)\n",
    "    y_train_us = train_df['salary']\n",
    "    return (X_train_us, y_train_us)"
   ]
  },
  {
   "cell_type": "markdown",
   "id": "cad7b423",
   "metadata": {},
   "source": [
    "### Pipeline for Undersampled Data"
   ]
  },
  {
   "cell_type": "code",
   "execution_count": 71,
   "id": "7bc79e33",
   "metadata": {},
   "outputs": [],
   "source": [
    "pipeline_us = Pipeline([('encoder', OneHotEncoder(handle_unknown='ignore')), ('scaler', RobustScaler(with_centering=False)),\n",
    "                    ('forest', RandomForestClassifier())])"
   ]
  },
  {
   "cell_type": "code",
   "execution_count": 72,
   "id": "c377254c",
   "metadata": {},
   "outputs": [],
   "source": [
    "scores = {}"
   ]
  },
  {
   "cell_type": "code",
   "execution_count": 73,
   "id": "4308d3d1",
   "metadata": {},
   "outputs": [],
   "source": [
    "samples = [5527, 6500, 7500, 8500, 9500, 10500]"
   ]
  },
  {
   "cell_type": "markdown",
   "id": "bc0f4747",
   "metadata": {},
   "source": [
    "### Getting Scores"
   ]
  },
  {
   "cell_type": "code",
   "execution_count": 74,
   "id": "1d096e8a",
   "metadata": {},
   "outputs": [],
   "source": [
    "# Loop for getting scores\n",
    "for num in samples:\n",
    "    X_train_us, y_train_us = get_undersample_set(df, num)\n",
    "    pipeline_us.fit(X_train_us, y_train_us)\n",
    "    y_pred = pipeline_us.predict(X_test)\n",
    "    scores[str(num)] = f1_score(y_test, y_pred)"
   ]
  },
  {
   "cell_type": "code",
   "execution_count": 75,
   "id": "ec3a9485",
   "metadata": {},
   "outputs": [
    {
     "data": {
      "text/plain": [
       "{'5527': 0.6638683680322365,\n",
       " '6500': 0.6782670454545455,\n",
       " '7500': 0.6823617339312407,\n",
       " '8500': 0.6864970645792563,\n",
       " '9500': 0.6887390149192725,\n",
       " '10500': 0.6809231420707177}"
      ]
     },
     "execution_count": 75,
     "metadata": {},
     "output_type": "execute_result"
    }
   ],
   "source": [
    "scores"
   ]
  },
  {
   "cell_type": "markdown",
   "id": "68be36a3",
   "metadata": {},
   "source": [
    "### Plotting Graph"
   ]
  },
  {
   "cell_type": "code",
   "execution_count": 76,
   "id": "ff7d8d04",
   "metadata": {},
   "outputs": [
    {
     "data": {
      "image/png": "[encoded data removed]",
      "text/plain": [
       "<Figure size 432x288 with 1 Axes>"
      ]
     },
     "metadata": {
      "needs_background": "light"
     },
     "output_type": "display_data"
    }
   ],
   "source": [
    "samples = list(scores.keys())\n",
    "list_scores = list(scores.values())\n",
    "plt.plot(samples, list_scores, 'b-o')\n",
    "plt.xlabel('Number of Samples')\n",
    "plt.ylabel('Score')\n",
    "plt.ylim(0.65, 0.7)\n",
    "plt.xticks(rotation=0)\n",
    "plt.show()"
   ]
  },
  {
   "cell_type": "code",
   "execution_count": 77,
   "id": "2495c4a7",
   "metadata": {},
   "outputs": [
    {
     "name": "stdout",
     "output_type": "stream",
     "text": [
      "Best Accuracy: \n",
      "\t 9500 samples -> 0.6887390149192725\n"
     ]
    }
   ],
   "source": [
    "print('Best Accuracy: \\n\\t',max(scores), 'samples ->', scores[max(scores)])"
   ]
  },
  {
   "cell_type": "markdown",
   "id": "64299b86",
   "metadata": {},
   "source": [
    "# Conclusion\n",
    "Under sampling did increase the accuracy of the model a little but after reaching 9500 samples the accuracy of the model started declining."
   ]
  },
  {
   "cell_type": "markdown",
   "id": "618d2cd9",
   "metadata": {},
   "source": [
    "## Creating Pipeline for Undersampled using Standard Scaler"
   ]
  },
  {
   "cell_type": "code",
   "execution_count": 78,
   "id": "117070a8",
   "metadata": {},
   "outputs": [],
   "source": [
    "from sklearn.preprocessing import StandardScaler"
   ]
  },
  {
   "cell_type": "code",
   "execution_count": 79,
   "id": "8ba2ab34",
   "metadata": {},
   "outputs": [],
   "source": [
    "pipeline_us_st = Pipeline([('encoder', OneHotEncoder(handle_unknown='ignore')), ('scaler', StandardScaler(with_mean=False)),\n",
    "                    ('forest', RandomForestClassifier())])"
   ]
  },
  {
   "cell_type": "code",
   "execution_count": 80,
   "id": "73863ba0",
   "metadata": {},
   "outputs": [],
   "source": [
    "X_train_us, y_train_us = get_undersample_set(df, 9500)"
   ]
  },
  {
   "cell_type": "code",
   "execution_count": 81,
   "id": "fb14e6ae",
   "metadata": {},
   "outputs": [
    {
     "data": {
      "text/plain": [
       "Pipeline(steps=[('encoder', OneHotEncoder(handle_unknown='ignore')),\n",
       "                ('scaler', StandardScaler(with_mean=False)),\n",
       "                ('forest', RandomForestClassifier())])"
      ]
     },
     "execution_count": 81,
     "metadata": {},
     "output_type": "execute_result"
    }
   ],
   "source": [
    "pipeline_us_st.fit(X_train_us, y_train_us)"
   ]
  },
  {
   "cell_type": "markdown",
   "id": "b21a7d9e",
   "metadata": {},
   "source": [
    "### Checking with test data"
   ]
  },
  {
   "cell_type": "code",
   "execution_count": 82,
   "id": "7c3a72cb",
   "metadata": {},
   "outputs": [],
   "source": [
    "y_pred = pipeline_us_st.predict(X_test)"
   ]
  },
  {
   "cell_type": "code",
   "execution_count": 83,
   "id": "f2f65ee0",
   "metadata": {},
   "outputs": [
    {
     "data": {
      "text/plain": [
       "array([[6603,  852],\n",
       "       [ 640, 1674]], dtype=int64)"
      ]
     },
     "execution_count": 83,
     "metadata": {},
     "output_type": "execute_result"
    }
   ],
   "source": [
    "confusion_matrix(y_test, y_pred)"
   ]
  },
  {
   "cell_type": "code",
   "execution_count": 84,
   "id": "cf81d7f6",
   "metadata": {},
   "outputs": [
    {
     "data": {
      "text/plain": [
       "0.6917355371900827"
      ]
     },
     "execution_count": 84,
     "metadata": {},
     "output_type": "execute_result"
    }
   ],
   "source": [
    "f1_score(y_test, y_pred)"
   ]
  },
  {
   "cell_type": "code",
   "execution_count": null,
   "id": "6d6277fb",
   "metadata": {},
   "outputs": [],
   "source": []
  }
 ],
 "metadata": {
  "kernelspec": {
   "display_name": "Python 3 (ipykernel)",
   "language": "python",
   "name": "python3"
  },
  "language_info": {
   "codemirror_mode": {
    "name": "ipython",
    "version": 3
   },
   "file_extension": ".py",
   "mimetype": "text/x-python",
   "name": "python",
   "nbconvert_exporter": "python",
   "pygments_lexer": "ipython3",
   "version": "3.9.12"
  }
 },
 "nbformat": 4,
 "nbformat_minor": 5
}
