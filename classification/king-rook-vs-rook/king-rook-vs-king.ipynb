{
 "cells": [
  {
   "cell_type": "markdown",
   "id": "d8c81a4d",
   "metadata": {},
   "source": [
    "# King-Rook-vs-King\n",
    "This dataset is a chess database for King & Rook vs King endgames.\n",
    "\n",
    "* Attributes: \n",
    "   1. White King file (column)\n",
    "   2. White King rank (row)\n",
    "   3. White Rook file\n",
    "   4. White Rook rank\n",
    "   5. Black King file\n",
    "   6. Black King rank\n",
    "   7. optimal depth-of-win for White in 0 to 16 moves, otherwise drawn\n",
    "   \n",
    "   \n",
    "* To Predict: Optimal Depth of Win\n"
   ]
  },
  {
   "cell_type": "code",
   "execution_count": 1,
   "id": "cea6b637",
   "metadata": {},
   "outputs": [],
   "source": [
    "import pandas as pd\n",
    "import numpy as np\n",
    "import matplotlib.pyplot as plt\n",
    "import seaborn as sns"
   ]
  },
  {
   "cell_type": "code",
   "execution_count": 2,
   "id": "8635dfa7",
   "metadata": {},
   "outputs": [],
   "source": [
    "columns = ['white-king-file',\n",
    "          'white-king-rank',\n",
    "          'white-rook-file',\n",
    "          'white-rook-rank',\n",
    "          'black-king-file',\n",
    "          'black-king-rank',\n",
    "          'depth-of-win']"
   ]
  },
  {
   "cell_type": "code",
   "execution_count": 3,
   "id": "a1ada657",
   "metadata": {},
   "outputs": [],
   "source": [
    "df = pd.read_csv('krkopt.data', header=None, names=columns)"
   ]
  },
  {
   "cell_type": "code",
   "execution_count": 4,
   "id": "676a1773",
   "metadata": {},
   "outputs": [
    {
     "data": {
      "text/html": [
       "<div>\n",
       "<style scoped>\n",
       "    .dataframe tbody tr th:only-of-type {\n",
       "        vertical-align: middle;\n",
       "    }\n",
       "\n",
       "    .dataframe tbody tr th {\n",
       "        vertical-align: top;\n",
       "    }\n",
       "\n",
       "    .dataframe thead th {\n",
       "        text-align: right;\n",
       "    }\n",
       "</style>\n",
       "<table border=\"1\" class=\"dataframe\">\n",
       "  <thead>\n",
       "    <tr style=\"text-align: right;\">\n",
       "      <th></th>\n",
       "      <th>white-king-file</th>\n",
       "      <th>white-king-rank</th>\n",
       "      <th>white-rook-file</th>\n",
       "      <th>white-rook-rank</th>\n",
       "      <th>black-king-file</th>\n",
       "      <th>black-king-rank</th>\n",
       "      <th>depth-of-win</th>\n",
       "    </tr>\n",
       "  </thead>\n",
       "  <tbody>\n",
       "    <tr>\n",
       "      <th>0</th>\n",
       "      <td>a</td>\n",
       "      <td>1</td>\n",
       "      <td>b</td>\n",
       "      <td>3</td>\n",
       "      <td>c</td>\n",
       "      <td>2</td>\n",
       "      <td>draw</td>\n",
       "    </tr>\n",
       "    <tr>\n",
       "      <th>1</th>\n",
       "      <td>a</td>\n",
       "      <td>1</td>\n",
       "      <td>c</td>\n",
       "      <td>1</td>\n",
       "      <td>c</td>\n",
       "      <td>2</td>\n",
       "      <td>draw</td>\n",
       "    </tr>\n",
       "    <tr>\n",
       "      <th>2</th>\n",
       "      <td>a</td>\n",
       "      <td>1</td>\n",
       "      <td>c</td>\n",
       "      <td>1</td>\n",
       "      <td>d</td>\n",
       "      <td>1</td>\n",
       "      <td>draw</td>\n",
       "    </tr>\n",
       "    <tr>\n",
       "      <th>3</th>\n",
       "      <td>a</td>\n",
       "      <td>1</td>\n",
       "      <td>c</td>\n",
       "      <td>1</td>\n",
       "      <td>d</td>\n",
       "      <td>2</td>\n",
       "      <td>draw</td>\n",
       "    </tr>\n",
       "    <tr>\n",
       "      <th>4</th>\n",
       "      <td>a</td>\n",
       "      <td>1</td>\n",
       "      <td>c</td>\n",
       "      <td>2</td>\n",
       "      <td>c</td>\n",
       "      <td>1</td>\n",
       "      <td>draw</td>\n",
       "    </tr>\n",
       "  </tbody>\n",
       "</table>\n",
       "</div>"
      ],
      "text/plain": [
       "  white-king-file  white-king-rank white-rook-file  white-rook-rank  \\\n",
       "0               a                1               b                3   \n",
       "1               a                1               c                1   \n",
       "2               a                1               c                1   \n",
       "3               a                1               c                1   \n",
       "4               a                1               c                2   \n",
       "\n",
       "  black-king-file  black-king-rank depth-of-win  \n",
       "0               c                2         draw  \n",
       "1               c                2         draw  \n",
       "2               d                1         draw  \n",
       "3               d                2         draw  \n",
       "4               c                1         draw  "
      ]
     },
     "execution_count": 4,
     "metadata": {},
     "output_type": "execute_result"
    }
   ],
   "source": [
    "df.head()"
   ]
  },
  {
   "cell_type": "markdown",
   "id": "a12a8b81",
   "metadata": {},
   "source": [
    "# Simple EDA"
   ]
  },
  {
   "cell_type": "code",
   "execution_count": 5,
   "id": "78fbe2ef",
   "metadata": {},
   "outputs": [
    {
     "data": {
      "text/html": [
       "<div>\n",
       "<style scoped>\n",
       "    .dataframe tbody tr th:only-of-type {\n",
       "        vertical-align: middle;\n",
       "    }\n",
       "\n",
       "    .dataframe tbody tr th {\n",
       "        vertical-align: top;\n",
       "    }\n",
       "\n",
       "    .dataframe thead th {\n",
       "        text-align: right;\n",
       "    }\n",
       "</style>\n",
       "<table border=\"1\" class=\"dataframe\">\n",
       "  <thead>\n",
       "    <tr style=\"text-align: right;\">\n",
       "      <th></th>\n",
       "      <th>white-king-rank</th>\n",
       "      <th>white-rook-rank</th>\n",
       "      <th>black-king-rank</th>\n",
       "    </tr>\n",
       "  </thead>\n",
       "  <tbody>\n",
       "    <tr>\n",
       "      <th>count</th>\n",
       "      <td>28056.000000</td>\n",
       "      <td>28056.000000</td>\n",
       "      <td>28056.000000</td>\n",
       "    </tr>\n",
       "    <tr>\n",
       "      <th>mean</th>\n",
       "      <td>1.854006</td>\n",
       "      <td>4.512404</td>\n",
       "      <td>4.451811</td>\n",
       "    </tr>\n",
       "    <tr>\n",
       "      <th>std</th>\n",
       "      <td>0.926414</td>\n",
       "      <td>2.282723</td>\n",
       "      <td>2.248387</td>\n",
       "    </tr>\n",
       "    <tr>\n",
       "      <th>min</th>\n",
       "      <td>1.000000</td>\n",
       "      <td>1.000000</td>\n",
       "      <td>1.000000</td>\n",
       "    </tr>\n",
       "    <tr>\n",
       "      <th>25%</th>\n",
       "      <td>1.000000</td>\n",
       "      <td>3.000000</td>\n",
       "      <td>3.000000</td>\n",
       "    </tr>\n",
       "    <tr>\n",
       "      <th>50%</th>\n",
       "      <td>2.000000</td>\n",
       "      <td>5.000000</td>\n",
       "      <td>4.000000</td>\n",
       "    </tr>\n",
       "    <tr>\n",
       "      <th>75%</th>\n",
       "      <td>2.000000</td>\n",
       "      <td>6.000000</td>\n",
       "      <td>6.000000</td>\n",
       "    </tr>\n",
       "    <tr>\n",
       "      <th>max</th>\n",
       "      <td>4.000000</td>\n",
       "      <td>8.000000</td>\n",
       "      <td>8.000000</td>\n",
       "    </tr>\n",
       "  </tbody>\n",
       "</table>\n",
       "</div>"
      ],
      "text/plain": [
       "       white-king-rank  white-rook-rank  black-king-rank\n",
       "count     28056.000000     28056.000000     28056.000000\n",
       "mean          1.854006         4.512404         4.451811\n",
       "std           0.926414         2.282723         2.248387\n",
       "min           1.000000         1.000000         1.000000\n",
       "25%           1.000000         3.000000         3.000000\n",
       "50%           2.000000         5.000000         4.000000\n",
       "75%           2.000000         6.000000         6.000000\n",
       "max           4.000000         8.000000         8.000000"
      ]
     },
     "execution_count": 5,
     "metadata": {},
     "output_type": "execute_result"
    }
   ],
   "source": [
    "df.describe()"
   ]
  },
  {
   "cell_type": "code",
   "execution_count": 6,
   "id": "89993fd6",
   "metadata": {},
   "outputs": [
    {
     "name": "stdout",
     "output_type": "stream",
     "text": [
      "<class 'pandas.core.frame.DataFrame'>\n",
      "RangeIndex: 28056 entries, 0 to 28055\n",
      "Data columns (total 7 columns):\n",
      " #   Column           Non-Null Count  Dtype \n",
      "---  ------           --------------  ----- \n",
      " 0   white-king-file  28056 non-null  object\n",
      " 1   white-king-rank  28056 non-null  int64 \n",
      " 2   white-rook-file  28056 non-null  object\n",
      " 3   white-rook-rank  28056 non-null  int64 \n",
      " 4   black-king-file  28056 non-null  object\n",
      " 5   black-king-rank  28056 non-null  int64 \n",
      " 6   depth-of-win     28056 non-null  object\n",
      "dtypes: int64(3), object(4)\n",
      "memory usage: 1.5+ MB\n"
     ]
    }
   ],
   "source": [
    "df.info()"
   ]
  },
  {
   "cell_type": "code",
   "execution_count": 7,
   "id": "3509c953",
   "metadata": {},
   "outputs": [
    {
     "data": {
      "text/plain": [
       "white-king-file    object\n",
       "white-king-rank     int64\n",
       "white-rook-file    object\n",
       "white-rook-rank     int64\n",
       "black-king-file    object\n",
       "black-king-rank     int64\n",
       "depth-of-win       object\n",
       "dtype: object"
      ]
     },
     "execution_count": 7,
     "metadata": {},
     "output_type": "execute_result"
    }
   ],
   "source": [
    "df.dtypes"
   ]
  },
  {
   "cell_type": "markdown",
   "id": "48a9f05e",
   "metadata": {},
   "source": [
    "# Finding Missing/Null"
   ]
  },
  {
   "cell_type": "code",
   "execution_count": 8,
   "id": "21bee9c2",
   "metadata": {},
   "outputs": [
    {
     "data": {
      "text/plain": [
       "white-king-file    0\n",
       "white-king-rank    0\n",
       "white-rook-file    0\n",
       "white-rook-rank    0\n",
       "black-king-file    0\n",
       "black-king-rank    0\n",
       "depth-of-win       0\n",
       "dtype: int64"
      ]
     },
     "execution_count": 8,
     "metadata": {},
     "output_type": "execute_result"
    }
   ],
   "source": [
    "df.isnull().sum()"
   ]
  },
  {
   "cell_type": "markdown",
   "id": "a0b235d6",
   "metadata": {},
   "source": [
    "No Null Values"
   ]
  },
  {
   "cell_type": "code",
   "execution_count": 9,
   "id": "1dee5b67",
   "metadata": {},
   "outputs": [
    {
     "data": {
      "text/plain": [
       "white-king-file    0\n",
       "white-king-rank    0\n",
       "white-rook-file    0\n",
       "white-rook-rank    0\n",
       "black-king-file    0\n",
       "black-king-rank    0\n",
       "depth-of-win       0\n",
       "dtype: int64"
      ]
     },
     "execution_count": 9,
     "metadata": {},
     "output_type": "execute_result"
    }
   ],
   "source": [
    "df.isin(['?']).sum()"
   ]
  },
  {
   "cell_type": "markdown",
   "id": "4bc9e720",
   "metadata": {},
   "source": [
    "No Missing Values"
   ]
  },
  {
   "cell_type": "markdown",
   "id": "e63a1590",
   "metadata": {},
   "source": [
    "# Finding Duplicates"
   ]
  },
  {
   "cell_type": "code",
   "execution_count": 10,
   "id": "c293764c",
   "metadata": {},
   "outputs": [
    {
     "data": {
      "text/plain": [
       "0"
      ]
     },
     "execution_count": 10,
     "metadata": {},
     "output_type": "execute_result"
    }
   ],
   "source": [
    "df.duplicated().sum()"
   ]
  },
  {
   "cell_type": "markdown",
   "id": "e79adb95",
   "metadata": {},
   "source": [
    "No Duplicate Samples"
   ]
  },
  {
   "cell_type": "markdown",
   "id": "433187c6",
   "metadata": {},
   "source": [
    "# Checking Unique Values of Columns"
   ]
  },
  {
   "cell_type": "code",
   "execution_count": 11,
   "id": "82cbb713",
   "metadata": {},
   "outputs": [
    {
     "name": "stdout",
     "output_type": "stream",
     "text": [
      "white-king-file :  ['a' 'b' 'c' 'd']\n",
      "white-king-rank :  [1 2 3 4]\n",
      "white-rook-file :  ['b' 'c' 'd' 'e' 'f' 'g' 'h' 'a']\n",
      "white-rook-rank :  [3 1 2 4 5 6 7 8]\n",
      "black-king-file :  ['c' 'd' 'e' 'f' 'g' 'h' 'a' 'b']\n",
      "black-king-rank :  [2 1 3 4 5 6 7 8]\n",
      "depth-of-win :  ['draw' 'zero' 'one' 'two' 'three' 'four' 'five' 'six' 'seven' 'eight'\n",
      " 'nine' 'ten' 'eleven' 'twelve' 'thirteen' 'fourteen' 'fifteen' 'sixteen']\n"
     ]
    }
   ],
   "source": [
    "for col in df.columns:\n",
    "    print(col, ': ', df[col].unique())"
   ]
  },
  {
   "cell_type": "markdown",
   "id": "42ef4c04",
   "metadata": {},
   "source": [
    "There are no abnormal values in any columns"
   ]
  },
  {
   "cell_type": "markdown",
   "id": "d8b469d9",
   "metadata": {},
   "source": [
    "# Plotting Graph for Value Counts of Each Column"
   ]
  },
  {
   "cell_type": "code",
   "execution_count": 12,
   "id": "1e074e60",
   "metadata": {},
   "outputs": [
    {
     "data": {
      "image/png": "[encoded data removed]",
      "text/plain": [
       "<Figure size 432x288 with 1 Axes>"
      ]
     },
     "metadata": {
      "needs_background": "light"
     },
     "output_type": "display_data"
    },
    {
     "data": {
      "image/png": "[encoded data removed]",
      "text/plain": [
       "<Figure size 432x288 with 1 Axes>"
      ]
     },
     "metadata": {
      "needs_background": "light"
     },
     "output_type": "display_data"
    },
    {
     "data": {
      "image/png": "[encoded data removed]",
      "text/plain": [
       "<Figure size 432x288 with 1 Axes>"
      ]
     },
     "metadata": {
      "needs_background": "light"
     },
     "output_type": "display_data"
    },
    {
     "data": {
      "image/png": "[encoded data removed]",
      "text/plain": [
       "<Figure size 432x288 with 1 Axes>"
      ]
     },
     "metadata": {
      "needs_background": "light"
     },
     "output_type": "display_data"
    },
    {
     "data": {
      "image/png": "[encoded data removed]",
      "text/plain": [
       "<Figure size 432x288 with 1 Axes>"
      ]
     },
     "metadata": {
      "needs_background": "light"
     },
     "output_type": "display_data"
    },
    {
     "data": {
      "image/png": "[encoded data removed]",
      "text/plain": [
       "<Figure size 432x288 with 1 Axes>"
      ]
     },
     "metadata": {
      "needs_background": "light"
     },
     "output_type": "display_data"
    },
    {
     "data": {
      "image/png": "[encoded data removed]",
      "text/plain": [
       "<Figure size 432x288 with 1 Axes>"
      ]
     },
     "metadata": {
      "needs_background": "light"
     },
     "output_type": "display_data"
    }
   ],
   "source": [
    "for col in df.columns:\n",
    "    val_counts = df[col].value_counts()\n",
    "    ind = val_counts.index\n",
    "    val = val_counts.values\n",
    "    sns.barplot(x=ind, y=val)\n",
    "    plt.title(col)\n",
    "    plt.ylabel('Value Counts')\n",
    "    plt.xlabel('Values')\n",
    "    plt.xticks(rotation=90)\n",
    "    plt.show()"
   ]
  },
  {
   "cell_type": "markdown",
   "id": "08990927",
   "metadata": {},
   "source": [
    "# Encoding Target Variable"
   ]
  },
  {
   "cell_type": "code",
   "execution_count": 13,
   "id": "e7c7913b",
   "metadata": {},
   "outputs": [],
   "source": [
    "target_encoded = {\n",
    "    'draw': -1,\n",
    "    'sixteen' : 16,\n",
    "    'fifteen' : 15,\n",
    "    'fourteen' : 14,\n",
    "    'thirteen' : 13,\n",
    "    'twelve' : 12,\n",
    "    'eleven' : 11,\n",
    "    'ten' : 10,\n",
    "    'nine' : 9,\n",
    "    'eight' : 8,\n",
    "    'seven' : 7,\n",
    "    'six' : 6,\n",
    "    'five' : 5,\n",
    "    'four' : 4,\n",
    "    'three' : 3,\n",
    "    'two' : 2,\n",
    "    'one' : 1,\n",
    "    'zero' : 0\n",
    "}"
   ]
  },
  {
   "cell_type": "code",
   "execution_count": 14,
   "id": "24633395",
   "metadata": {},
   "outputs": [],
   "source": [
    "df['depth-of-win'].replace(target_encoded, inplace=True)\n",
    "df['depth-of-win'] = df['depth-of-win'].astype(np.int64)"
   ]
  },
  {
   "cell_type": "code",
   "execution_count": 15,
   "id": "e2aa0d2d",
   "metadata": {},
   "outputs": [
    {
     "data": {
      "text/plain": [
       "array([-1,  0,  1,  2,  3,  4,  5,  6,  7,  8,  9, 10, 11, 12, 13, 14, 15,\n",
       "       16], dtype=int64)"
      ]
     },
     "execution_count": 15,
     "metadata": {},
     "output_type": "execute_result"
    }
   ],
   "source": [
    "df['depth-of-win'].unique()"
   ]
  },
  {
   "cell_type": "markdown",
   "id": "5c57ebd6",
   "metadata": {},
   "source": [
    "## Encoding the independent features"
   ]
  },
  {
   "cell_type": "code",
   "execution_count": 16,
   "id": "348709c3",
   "metadata": {},
   "outputs": [],
   "source": [
    "from sklearn.preprocessing import LabelEncoder\n",
    "le = LabelEncoder()"
   ]
  },
  {
   "cell_type": "code",
   "execution_count": 17,
   "id": "f1eb2236",
   "metadata": {},
   "outputs": [],
   "source": [
    "categorical_variables = ['white-king-file', 'white-rook-file', 'black-king-file']\n",
    "for col in categorical_variables:\n",
    "    df[col] = le.fit_transform(df[col])"
   ]
  },
  {
   "cell_type": "code",
   "execution_count": 18,
   "id": "721af787",
   "metadata": {},
   "outputs": [
    {
     "data": {
      "text/html": [
       "<div>\n",
       "<style scoped>\n",
       "    .dataframe tbody tr th:only-of-type {\n",
       "        vertical-align: middle;\n",
       "    }\n",
       "\n",
       "    .dataframe tbody tr th {\n",
       "        vertical-align: top;\n",
       "    }\n",
       "\n",
       "    .dataframe thead th {\n",
       "        text-align: right;\n",
       "    }\n",
       "</style>\n",
       "<table border=\"1\" class=\"dataframe\">\n",
       "  <thead>\n",
       "    <tr style=\"text-align: right;\">\n",
       "      <th></th>\n",
       "      <th>white-king-file</th>\n",
       "      <th>white-king-rank</th>\n",
       "      <th>white-rook-file</th>\n",
       "      <th>white-rook-rank</th>\n",
       "      <th>black-king-file</th>\n",
       "      <th>black-king-rank</th>\n",
       "      <th>depth-of-win</th>\n",
       "    </tr>\n",
       "  </thead>\n",
       "  <tbody>\n",
       "    <tr>\n",
       "      <th>0</th>\n",
       "      <td>0</td>\n",
       "      <td>1</td>\n",
       "      <td>1</td>\n",
       "      <td>3</td>\n",
       "      <td>2</td>\n",
       "      <td>2</td>\n",
       "      <td>-1</td>\n",
       "    </tr>\n",
       "    <tr>\n",
       "      <th>1</th>\n",
       "      <td>0</td>\n",
       "      <td>1</td>\n",
       "      <td>2</td>\n",
       "      <td>1</td>\n",
       "      <td>2</td>\n",
       "      <td>2</td>\n",
       "      <td>-1</td>\n",
       "    </tr>\n",
       "    <tr>\n",
       "      <th>2</th>\n",
       "      <td>0</td>\n",
       "      <td>1</td>\n",
       "      <td>2</td>\n",
       "      <td>1</td>\n",
       "      <td>3</td>\n",
       "      <td>1</td>\n",
       "      <td>-1</td>\n",
       "    </tr>\n",
       "    <tr>\n",
       "      <th>3</th>\n",
       "      <td>0</td>\n",
       "      <td>1</td>\n",
       "      <td>2</td>\n",
       "      <td>1</td>\n",
       "      <td>3</td>\n",
       "      <td>2</td>\n",
       "      <td>-1</td>\n",
       "    </tr>\n",
       "    <tr>\n",
       "      <th>4</th>\n",
       "      <td>0</td>\n",
       "      <td>1</td>\n",
       "      <td>2</td>\n",
       "      <td>2</td>\n",
       "      <td>2</td>\n",
       "      <td>1</td>\n",
       "      <td>-1</td>\n",
       "    </tr>\n",
       "  </tbody>\n",
       "</table>\n",
       "</div>"
      ],
      "text/plain": [
       "   white-king-file  white-king-rank  white-rook-file  white-rook-rank  \\\n",
       "0                0                1                1                3   \n",
       "1                0                1                2                1   \n",
       "2                0                1                2                1   \n",
       "3                0                1                2                1   \n",
       "4                0                1                2                2   \n",
       "\n",
       "   black-king-file  black-king-rank  depth-of-win  \n",
       "0                2                2            -1  \n",
       "1                2                2            -1  \n",
       "2                3                1            -1  \n",
       "3                3                2            -1  \n",
       "4                2                1            -1  "
      ]
     },
     "execution_count": 18,
     "metadata": {},
     "output_type": "execute_result"
    }
   ],
   "source": [
    "df.head()"
   ]
  },
  {
   "cell_type": "markdown",
   "id": "6eb08471",
   "metadata": {},
   "source": [
    "# Developing Model"
   ]
  },
  {
   "cell_type": "code",
   "execution_count": 19,
   "id": "05918e8f",
   "metadata": {},
   "outputs": [],
   "source": [
    "X = df.drop('depth-of-win', axis=1)\n",
    "y = df['depth-of-win']"
   ]
  },
  {
   "cell_type": "markdown",
   "id": "12e12ada",
   "metadata": {},
   "source": [
    "## Train Test Split"
   ]
  },
  {
   "cell_type": "code",
   "execution_count": 20,
   "id": "0467a1f2",
   "metadata": {},
   "outputs": [],
   "source": [
    "from sklearn.model_selection import train_test_split"
   ]
  },
  {
   "cell_type": "code",
   "execution_count": 21,
   "id": "044404d8",
   "metadata": {},
   "outputs": [],
   "source": [
    "X_train, X_test, y_train, y_test = train_test_split(X, y, train_size=0.7, random_state=42)"
   ]
  },
  {
   "cell_type": "markdown",
   "id": "b9ff6801",
   "metadata": {},
   "source": [
    "## Decision Tree Classifier"
   ]
  },
  {
   "cell_type": "code",
   "execution_count": 22,
   "id": "6499e623",
   "metadata": {},
   "outputs": [],
   "source": [
    "from sklearn.tree import DecisionTreeClassifier"
   ]
  },
  {
   "cell_type": "code",
   "execution_count": 23,
   "id": "840fb55a",
   "metadata": {},
   "outputs": [],
   "source": [
    "tree = DecisionTreeClassifier()"
   ]
  },
  {
   "cell_type": "code",
   "execution_count": 24,
   "id": "4ad0f167",
   "metadata": {},
   "outputs": [
    {
     "data": {
      "text/plain": [
       "DecisionTreeClassifier()"
      ]
     },
     "execution_count": 24,
     "metadata": {},
     "output_type": "execute_result"
    }
   ],
   "source": [
    "tree.fit(X_train, y_train)"
   ]
  },
  {
   "cell_type": "code",
   "execution_count": 25,
   "id": "9b0e8287",
   "metadata": {},
   "outputs": [
    {
     "data": {
      "text/plain": [
       "1.0"
      ]
     },
     "execution_count": 25,
     "metadata": {},
     "output_type": "execute_result"
    }
   ],
   "source": [
    "tree.score(X_train, y_train)"
   ]
  },
  {
   "cell_type": "code",
   "execution_count": 26,
   "id": "6beedd21",
   "metadata": {},
   "outputs": [],
   "source": [
    "y_pred = tree.predict(X_train)"
   ]
  },
  {
   "cell_type": "markdown",
   "id": "2f869b0f",
   "metadata": {},
   "source": [
    "## Evaluation"
   ]
  },
  {
   "cell_type": "code",
   "execution_count": 27,
   "id": "4cf69814",
   "metadata": {},
   "outputs": [],
   "source": [
    "from sklearn.metrics import confusion_matrix"
   ]
  },
  {
   "cell_type": "code",
   "execution_count": 28,
   "id": "ba92dca6",
   "metadata": {},
   "outputs": [
    {
     "data": {
      "text/plain": [
       "array([[1976,    0,    0,    0,    0,    0,    0,    0,    0,    0,    0,\n",
       "           0,    0,    0,    0,    0,    0,    0],\n",
       "       [   0,   18,    0,    0,    0,    0,    0,    0,    0,    0,    0,\n",
       "           0,    0,    0,    0,    0,    0,    0],\n",
       "       [   0,    0,   49,    0,    0,    0,    0,    0,    0,    0,    0,\n",
       "           0,    0,    0,    0,    0,    0,    0],\n",
       "       [   0,    0,    0,  169,    0,    0,    0,    0,    0,    0,    0,\n",
       "           0,    0,    0,    0,    0,    0,    0],\n",
       "       [   0,    0,    0,    0,   55,    0,    0,    0,    0,    0,    0,\n",
       "           0,    0,    0,    0,    0,    0,    0],\n",
       "       [   0,    0,    0,    0,    0,  130,    0,    0,    0,    0,    0,\n",
       "           0,    0,    0,    0,    0,    0,    0],\n",
       "       [   0,    0,    0,    0,    0,    0,  324,    0,    0,    0,    0,\n",
       "           0,    0,    0,    0,    0,    0,    0],\n",
       "       [   0,    0,    0,    0,    0,    0,    0,  412,    0,    0,    0,\n",
       "           0,    0,    0,    0,    0,    0,    0],\n",
       "       [   0,    0,    0,    0,    0,    0,    0,    0,  491,    0,    0,\n",
       "           0,    0,    0,    0,    0,    0,    0],\n",
       "       [   0,    0,    0,    0,    0,    0,    0,    0,    0, 1007,    0,\n",
       "           0,    0,    0,    0,    0,    0,    0],\n",
       "       [   0,    0,    0,    0,    0,    0,    0,    0,    0,    0, 1190,\n",
       "           0,    0,    0,    0,    0,    0,    0],\n",
       "       [   0,    0,    0,    0,    0,    0,    0,    0,    0,    0,    0,\n",
       "        1408,    0,    0,    0,    0,    0,    0],\n",
       "       [   0,    0,    0,    0,    0,    0,    0,    0,    0,    0,    0,\n",
       "           0, 1970,    0,    0,    0,    0,    0],\n",
       "       [   0,    0,    0,    0,    0,    0,    0,    0,    0,    0,    0,\n",
       "           0,    0, 2515,    0,    0,    0,    0],\n",
       "       [   0,    0,    0,    0,    0,    0,    0,    0,    0,    0,    0,\n",
       "           0,    0,    0, 2957,    0,    0,    0],\n",
       "       [   0,    0,    0,    0,    0,    0,    0,    0,    0,    0,    0,\n",
       "           0,    0,    0,    0, 3156,    0,    0],\n",
       "       [   0,    0,    0,    0,    0,    0,    0,    0,    0,    0,    0,\n",
       "           0,    0,    0,    0,    0, 1540,    0],\n",
       "       [   0,    0,    0,    0,    0,    0,    0,    0,    0,    0,    0,\n",
       "           0,    0,    0,    0,    0,    0,  272]], dtype=int64)"
      ]
     },
     "execution_count": 28,
     "metadata": {},
     "output_type": "execute_result"
    }
   ],
   "source": [
    "conf_mx = confusion_matrix(y_train, y_pred)\n",
    "conf_mx"
   ]
  },
  {
   "cell_type": "code",
   "execution_count": 29,
   "id": "70b93c05",
   "metadata": {},
   "outputs": [
    {
     "data": {
      "image/png": "[encoded data removed]",
      "text/plain": [
       "<Figure size 288x288 with 1 Axes>"
      ]
     },
     "metadata": {
      "needs_background": "light"
     },
     "output_type": "display_data"
    }
   ],
   "source": [
    "plt.matshow(conf_mx, cmap=plt.cm.pink)\n",
    "plt.title('Confusion Matrix Representation')\n",
    "plt.show()"
   ]
  },
  {
   "cell_type": "markdown",
   "id": "3f1b4660",
   "metadata": {},
   "source": [
    "## Testing on Test Data"
   ]
  },
  {
   "cell_type": "code",
   "execution_count": 30,
   "id": "422c999e",
   "metadata": {},
   "outputs": [],
   "source": [
    "y_pred = tree.predict(X_test)"
   ]
  },
  {
   "cell_type": "code",
   "execution_count": 31,
   "id": "5e56b7b4",
   "metadata": {},
   "outputs": [
    {
     "data": {
      "text/plain": [
       "array([[ 636,    0,    0,    0,    1,    1,    1,    2,   11,    9,   14,\n",
       "          20,   25,   29,   21,   25,   17,    8],\n",
       "       [   2,    7,    0,    0,    0,    0,    0,    0,    0,    0,    0,\n",
       "           0,    0,    0,    0,    0,    0,    0],\n",
       "       [   0,    0,   24,    0,    0,    0,    0,    0,    0,    1,    3,\n",
       "           0,    1,    0,    0,    0,    0,    0],\n",
       "       [   1,    0,    4,   69,    1,    0,    0,    0,    0,    0,    0,\n",
       "           0,    1,    0,    0,    0,    1,    0],\n",
       "       [   0,    0,    1,    1,   21,    2,    1,    0,    0,    0,    0,\n",
       "           0,    0,    0,    0,    0,    0,    0],\n",
       "       [   0,    0,    0,    0,    7,   50,    2,    1,    4,    2,    0,\n",
       "           1,    1,    0,    0,    0,    0,    0],\n",
       "       [   0,    0,    0,    0,    2,    1,  132,    7,    1,    1,    0,\n",
       "           0,    2,    1,    0,    0,    0,    0],\n",
       "       [   5,    0,    0,    0,    0,    1,    2,  148,   13,    5,    1,\n",
       "           3,    1,    0,    1,    0,    0,    0],\n",
       "       [   4,    0,    0,    0,    0,    1,    1,    9,  145,   22,    4,\n",
       "           2,    1,    1,    0,    1,    1,    0],\n",
       "       [  11,    0,    0,    0,    0,    3,    0,    2,   20,  356,   27,\n",
       "           3,    1,    0,    3,    0,    0,    0],\n",
       "       [  15,    0,    2,    0,    0,    0,    0,    3,    0,   26,  419,\n",
       "          33,   13,    6,    4,    0,    1,    0],\n",
       "       [  14,    0,    0,    0,    0,    0,    0,    1,    1,    6,   24,\n",
       "         457,   55,   15,    2,    2,    0,    0],\n",
       "       [  20,    0,    0,    0,    0,    1,    0,    2,    2,    3,   14,\n",
       "          33,  716,   68,   17,    5,    3,    0],\n",
       "       [  23,    0,    0,    0,    0,    0,    0,    0,    0,    1,    6,\n",
       "          15,   48,  904,   70,   11,    4,    0],\n",
       "       [  13,    0,    0,    0,    0,    0,    1,    0,    2,    0,    5,\n",
       "           1,   21,   57, 1049,   79,    9,    0],\n",
       "       [  20,    0,    0,    0,    0,    0,    0,    0,    0,    0,    0,\n",
       "           0,    1,   17,   80, 1217,   61,    1],\n",
       "       [  13,    0,    0,    0,    0,    0,    0,    0,    0,    0,    0,\n",
       "           3,    3,    6,    4,   48,  531,   18],\n",
       "       [  11,    0,    0,    0,    0,    0,    0,    0,    0,    0,    0,\n",
       "           0,    1,    0,    0,    0,   13,   93]], dtype=int64)"
      ]
     },
     "execution_count": 31,
     "metadata": {},
     "output_type": "execute_result"
    }
   ],
   "source": [
    "conf_mx = confusion_matrix(y_test, y_pred)"
   ]
  },
  {
   "cell_type": "code",
   "execution_count": 32,
   "id": "818f5cbf",
   "metadata": {},
   "outputs": [
    {
     "data": {
      "image/png": "[encoded data removed]",
      "text/plain": [
       "<Figure size 288x288 with 1 Axes>"
      ]
     },
     "metadata": {
      "needs_background": "light"
     },
     "output_type": "display_data"
    }
   ],
   "source": [
    "plt.matshow(conf_mx, cmap=plt.cm.gray)\n",
    "plt.title('Confusion Matrix Representation')\n",
    "plt.show()"
   ]
  },
  {
   "cell_type": "markdown",
   "id": "b5b93aad",
   "metadata": {},
   "source": [
    "## Plotting Errors"
   ]
  },
  {
   "cell_type": "code",
   "execution_count": 33,
   "id": "662ebf45",
   "metadata": {},
   "outputs": [],
   "source": [
    "row_sum = conf_mx.sum(axis=1, keepdims=True)"
   ]
  },
  {
   "cell_type": "code",
   "execution_count": 34,
   "id": "2798484e",
   "metadata": {},
   "outputs": [],
   "source": [
    "error_conf_mx = conf_mx / row_sum"
   ]
  },
  {
   "cell_type": "code",
   "execution_count": 35,
   "id": "175dfb61",
   "metadata": {},
   "outputs": [
    {
     "data": {
      "image/png": "[encoded data removed]",
      "text/plain": [
       "<Figure size 288x288 with 1 Axes>"
      ]
     },
     "metadata": {
      "needs_background": "light"
     },
     "output_type": "display_data"
    }
   ],
   "source": [
    "plt.matshow(error_conf_mx, cmap=plt.cm.gray)\n",
    "plt.title('Error Confusion Matrix Representation')\n",
    "plt.show()"
   ]
  },
  {
   "cell_type": "markdown",
   "id": "7b1d70f9",
   "metadata": {},
   "source": [
    "## Checking F1 Score"
   ]
  },
  {
   "cell_type": "code",
   "execution_count": 36,
   "id": "f323a3ab",
   "metadata": {},
   "outputs": [],
   "source": [
    "from sklearn.metrics import f1_score"
   ]
  },
  {
   "cell_type": "code",
   "execution_count": 37,
   "id": "499ea3e5",
   "metadata": {},
   "outputs": [
    {
     "data": {
      "text/plain": [
       "0.8286365722928876"
      ]
     },
     "execution_count": 37,
     "metadata": {},
     "output_type": "execute_result"
    }
   ],
   "source": [
    "f1_score(y_test, y_pred, average='weighted')"
   ]
  },
  {
   "cell_type": "markdown",
   "id": "c5497bf5",
   "metadata": {},
   "source": [
    "## Result\n",
    "Getting an accuracy of 0.82 on test set."
   ]
  },
  {
   "cell_type": "code",
   "execution_count": null,
   "id": "2954e0db",
   "metadata": {},
   "outputs": [],
   "source": []
  }
 ],
 "metadata": {
  "kernelspec": {
   "display_name": "Python 3 (ipykernel)",
   "language": "python",
   "name": "python3"
  },
  "language_info": {
   "codemirror_mode": {
    "name": "ipython",
    "version": 3
   },
   "file_extension": ".py",
   "mimetype": "text/x-python",
   "name": "python",
   "nbconvert_exporter": "python",
   "pygments_lexer": "ipython3",
   "version": "3.9.12"
  }
 },
 "nbformat": 4,
 "nbformat_minor": 5
}
