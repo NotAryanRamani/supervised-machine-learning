{
 "cells": [
  {
   "cell_type": "markdown",
   "id": "4ef1d869",
   "metadata": {},
   "source": [
    "# King-Rook-vs-King\n",
    "This dataset is a chess database for King & Rook vs King endgames.\n",
    "\n",
    "* Attributes: \n",
    "   1. White King file (column)\n",
    "   2. White King rank (row)\n",
    "   3. White Rook file\n",
    "   4. White Rook rank\n",
    "   5. Black King file\n",
    "   6. Black King rank\n",
    "   7. optimal depth-of-win for White in 0 to 16 moves, otherwise drawn\n",
    "   \n",
    "   \n",
    "* To Predict: Optimal Depth of Win\n"
   ]
  },
  {
   "cell_type": "code",
   "execution_count": 3,
   "id": "2dbd6ba8",
   "metadata": {},
   "outputs": [],
   "source": [
    "import pandas as pd\n",
    "import numpy as np\n",
    "import matplotlib.pyplot as plt\n",
    "import seaborn as sns"
   ]
  },
  {
   "cell_type": "code",
   "execution_count": 9,
   "id": "bf8be4a7",
   "metadata": {},
   "outputs": [],
   "source": [
    "columns = ['white-king-file',\n",
    "          'white-king-rank',\n",
    "          'white-rook-file',\n",
    "          'white-rook-rank',\n",
    "          'black-king-file',\n",
    "          'black-king-rank',\n",
    "          'depth-of-win']"
   ]
  },
  {
   "cell_type": "code",
   "execution_count": 10,
   "id": "6ef50172",
   "metadata": {},
   "outputs": [],
   "source": [
    "df = pd.read_csv('krkopt.data', header=None, names=columns)"
   ]
  },
  {
   "cell_type": "code",
   "execution_count": 11,
   "id": "3b700b0f",
   "metadata": {},
   "outputs": [
    {
     "data": {
      "text/html": [
       "<div>\n",
       "<style scoped>\n",
       "    .dataframe tbody tr th:only-of-type {\n",
       "        vertical-align: middle;\n",
       "    }\n",
       "\n",
       "    .dataframe tbody tr th {\n",
       "        vertical-align: top;\n",
       "    }\n",
       "\n",
       "    .dataframe thead th {\n",
       "        text-align: right;\n",
       "    }\n",
       "</style>\n",
       "<table border=\"1\" class=\"dataframe\">\n",
       "  <thead>\n",
       "    <tr style=\"text-align: right;\">\n",
       "      <th></th>\n",
       "      <th>white-king-file</th>\n",
       "      <th>white-king-rank</th>\n",
       "      <th>white-rook-file</th>\n",
       "      <th>white-rook-rank</th>\n",
       "      <th>black-king-file</th>\n",
       "      <th>black-king-rank</th>\n",
       "      <th>depth-of-win</th>\n",
       "    </tr>\n",
       "  </thead>\n",
       "  <tbody>\n",
       "    <tr>\n",
       "      <th>0</th>\n",
       "      <td>a</td>\n",
       "      <td>1</td>\n",
       "      <td>b</td>\n",
       "      <td>3</td>\n",
       "      <td>c</td>\n",
       "      <td>2</td>\n",
       "      <td>draw</td>\n",
       "    </tr>\n",
       "    <tr>\n",
       "      <th>1</th>\n",
       "      <td>a</td>\n",
       "      <td>1</td>\n",
       "      <td>c</td>\n",
       "      <td>1</td>\n",
       "      <td>c</td>\n",
       "      <td>2</td>\n",
       "      <td>draw</td>\n",
       "    </tr>\n",
       "    <tr>\n",
       "      <th>2</th>\n",
       "      <td>a</td>\n",
       "      <td>1</td>\n",
       "      <td>c</td>\n",
       "      <td>1</td>\n",
       "      <td>d</td>\n",
       "      <td>1</td>\n",
       "      <td>draw</td>\n",
       "    </tr>\n",
       "    <tr>\n",
       "      <th>3</th>\n",
       "      <td>a</td>\n",
       "      <td>1</td>\n",
       "      <td>c</td>\n",
       "      <td>1</td>\n",
       "      <td>d</td>\n",
       "      <td>2</td>\n",
       "      <td>draw</td>\n",
       "    </tr>\n",
       "    <tr>\n",
       "      <th>4</th>\n",
       "      <td>a</td>\n",
       "      <td>1</td>\n",
       "      <td>c</td>\n",
       "      <td>2</td>\n",
       "      <td>c</td>\n",
       "      <td>1</td>\n",
       "      <td>draw</td>\n",
       "    </tr>\n",
       "  </tbody>\n",
       "</table>\n",
       "</div>"
      ],
      "text/plain": [
       "  white-king-file  white-king-rank white-rook-file  white-rook-rank  \\\n",
       "0               a                1               b                3   \n",
       "1               a                1               c                1   \n",
       "2               a                1               c                1   \n",
       "3               a                1               c                1   \n",
       "4               a                1               c                2   \n",
       "\n",
       "  black-king-file  black-king-rank depth-of-win  \n",
       "0               c                2         draw  \n",
       "1               c                2         draw  \n",
       "2               d                1         draw  \n",
       "3               d                2         draw  \n",
       "4               c                1         draw  "
      ]
     },
     "execution_count": 11,
     "metadata": {},
     "output_type": "execute_result"
    }
   ],
   "source": [
    "df.head()"
   ]
  },
  {
   "cell_type": "markdown",
   "id": "60b6c4ef",
   "metadata": {},
   "source": [
    "# Simple EDA"
   ]
  },
  {
   "cell_type": "code",
   "execution_count": 12,
   "id": "9c55e2d1",
   "metadata": {},
   "outputs": [
    {
     "data": {
      "text/html": [
       "<div>\n",
       "<style scoped>\n",
       "    .dataframe tbody tr th:only-of-type {\n",
       "        vertical-align: middle;\n",
       "    }\n",
       "\n",
       "    .dataframe tbody tr th {\n",
       "        vertical-align: top;\n",
       "    }\n",
       "\n",
       "    .dataframe thead th {\n",
       "        text-align: right;\n",
       "    }\n",
       "</style>\n",
       "<table border=\"1\" class=\"dataframe\">\n",
       "  <thead>\n",
       "    <tr style=\"text-align: right;\">\n",
       "      <th></th>\n",
       "      <th>white-king-rank</th>\n",
       "      <th>white-rook-rank</th>\n",
       "      <th>black-king-rank</th>\n",
       "    </tr>\n",
       "  </thead>\n",
       "  <tbody>\n",
       "    <tr>\n",
       "      <th>count</th>\n",
       "      <td>28056.000000</td>\n",
       "      <td>28056.000000</td>\n",
       "      <td>28056.000000</td>\n",
       "    </tr>\n",
       "    <tr>\n",
       "      <th>mean</th>\n",
       "      <td>1.854006</td>\n",
       "      <td>4.512404</td>\n",
       "      <td>4.451811</td>\n",
       "    </tr>\n",
       "    <tr>\n",
       "      <th>std</th>\n",
       "      <td>0.926414</td>\n",
       "      <td>2.282723</td>\n",
       "      <td>2.248387</td>\n",
       "    </tr>\n",
       "    <tr>\n",
       "      <th>min</th>\n",
       "      <td>1.000000</td>\n",
       "      <td>1.000000</td>\n",
       "      <td>1.000000</td>\n",
       "    </tr>\n",
       "    <tr>\n",
       "      <th>25%</th>\n",
       "      <td>1.000000</td>\n",
       "      <td>3.000000</td>\n",
       "      <td>3.000000</td>\n",
       "    </tr>\n",
       "    <tr>\n",
       "      <th>50%</th>\n",
       "      <td>2.000000</td>\n",
       "      <td>5.000000</td>\n",
       "      <td>4.000000</td>\n",
       "    </tr>\n",
       "    <tr>\n",
       "      <th>75%</th>\n",
       "      <td>2.000000</td>\n",
       "      <td>6.000000</td>\n",
       "      <td>6.000000</td>\n",
       "    </tr>\n",
       "    <tr>\n",
       "      <th>max</th>\n",
       "      <td>4.000000</td>\n",
       "      <td>8.000000</td>\n",
       "      <td>8.000000</td>\n",
       "    </tr>\n",
       "  </tbody>\n",
       "</table>\n",
       "</div>"
      ],
      "text/plain": [
       "       white-king-rank  white-rook-rank  black-king-rank\n",
       "count     28056.000000     28056.000000     28056.000000\n",
       "mean          1.854006         4.512404         4.451811\n",
       "std           0.926414         2.282723         2.248387\n",
       "min           1.000000         1.000000         1.000000\n",
       "25%           1.000000         3.000000         3.000000\n",
       "50%           2.000000         5.000000         4.000000\n",
       "75%           2.000000         6.000000         6.000000\n",
       "max           4.000000         8.000000         8.000000"
      ]
     },
     "execution_count": 12,
     "metadata": {},
     "output_type": "execute_result"
    }
   ],
   "source": [
    "df.describe()"
   ]
  },
  {
   "cell_type": "code",
   "execution_count": 13,
   "id": "72238dc9",
   "metadata": {},
   "outputs": [
    {
     "name": "stdout",
     "output_type": "stream",
     "text": [
      "<class 'pandas.core.frame.DataFrame'>\n",
      "RangeIndex: 28056 entries, 0 to 28055\n",
      "Data columns (total 7 columns):\n",
      " #   Column           Non-Null Count  Dtype \n",
      "---  ------           --------------  ----- \n",
      " 0   white-king-file  28056 non-null  object\n",
      " 1   white-king-rank  28056 non-null  int64 \n",
      " 2   white-rook-file  28056 non-null  object\n",
      " 3   white-rook-rank  28056 non-null  int64 \n",
      " 4   black-king-file  28056 non-null  object\n",
      " 5   black-king-rank  28056 non-null  int64 \n",
      " 6   depth-of-win     28056 non-null  object\n",
      "dtypes: int64(3), object(4)\n",
      "memory usage: 1.5+ MB\n"
     ]
    }
   ],
   "source": [
    "df.info()"
   ]
  },
  {
   "cell_type": "code",
   "execution_count": 14,
   "id": "11d8fe9c",
   "metadata": {},
   "outputs": [
    {
     "data": {
      "text/plain": [
       "white-king-file    object\n",
       "white-king-rank     int64\n",
       "white-rook-file    object\n",
       "white-rook-rank     int64\n",
       "black-king-file    object\n",
       "black-king-rank     int64\n",
       "depth-of-win       object\n",
       "dtype: object"
      ]
     },
     "execution_count": 14,
     "metadata": {},
     "output_type": "execute_result"
    }
   ],
   "source": [
    "df.dtypes"
   ]
  },
  {
   "cell_type": "markdown",
   "id": "54ed21a2",
   "metadata": {},
   "source": [
    "# Finding Missing/Null"
   ]
  },
  {
   "cell_type": "code",
   "execution_count": 15,
   "id": "4414b3bf",
   "metadata": {},
   "outputs": [
    {
     "data": {
      "text/plain": [
       "white-king-file    0\n",
       "white-king-rank    0\n",
       "white-rook-file    0\n",
       "white-rook-rank    0\n",
       "black-king-file    0\n",
       "black-king-rank    0\n",
       "depth-of-win       0\n",
       "dtype: int64"
      ]
     },
     "execution_count": 15,
     "metadata": {},
     "output_type": "execute_result"
    }
   ],
   "source": [
    "df.isnull().sum()"
   ]
  },
  {
   "cell_type": "markdown",
   "id": "f071f0d6",
   "metadata": {},
   "source": [
    "No Null Values"
   ]
  },
  {
   "cell_type": "code",
   "execution_count": 16,
   "id": "a891e13c",
   "metadata": {},
   "outputs": [
    {
     "data": {
      "text/plain": [
       "white-king-file    0\n",
       "white-king-rank    0\n",
       "white-rook-file    0\n",
       "white-rook-rank    0\n",
       "black-king-file    0\n",
       "black-king-rank    0\n",
       "depth-of-win       0\n",
       "dtype: int64"
      ]
     },
     "execution_count": 16,
     "metadata": {},
     "output_type": "execute_result"
    }
   ],
   "source": [
    "df.isin(['?']).sum()"
   ]
  },
  {
   "cell_type": "markdown",
   "id": "4222c54e",
   "metadata": {},
   "source": [
    "No Missing Values"
   ]
  },
  {
   "cell_type": "markdown",
   "id": "bbea4ff6",
   "metadata": {},
   "source": [
    "# Finding Duplicates"
   ]
  },
  {
   "cell_type": "code",
   "execution_count": 18,
   "id": "cd518c1c",
   "metadata": {},
   "outputs": [
    {
     "data": {
      "text/plain": [
       "0"
      ]
     },
     "execution_count": 18,
     "metadata": {},
     "output_type": "execute_result"
    }
   ],
   "source": [
    "df.duplicated().sum()"
   ]
  },
  {
   "cell_type": "markdown",
   "id": "ea87bbe1",
   "metadata": {},
   "source": [
    "No Duplicate Samples"
   ]
  },
  {
   "cell_type": "markdown",
   "id": "d6c06370",
   "metadata": {},
   "source": [
    "# Checking Unique Values of Columns"
   ]
  },
  {
   "cell_type": "code",
   "execution_count": 19,
   "id": "e224db8a",
   "metadata": {},
   "outputs": [
    {
     "name": "stdout",
     "output_type": "stream",
     "text": [
      "white-king-file :  ['a' 'b' 'c' 'd']\n",
      "white-king-rank :  [1 2 3 4]\n",
      "white-rook-file :  ['b' 'c' 'd' 'e' 'f' 'g' 'h' 'a']\n",
      "white-rook-rank :  [3 1 2 4 5 6 7 8]\n",
      "black-king-file :  ['c' 'd' 'e' 'f' 'g' 'h' 'a' 'b']\n",
      "black-king-rank :  [2 1 3 4 5 6 7 8]\n",
      "depth-of-win :  ['draw' 'zero' 'one' 'two' 'three' 'four' 'five' 'six' 'seven' 'eight'\n",
      " 'nine' 'ten' 'eleven' 'twelve' 'thirteen' 'fourteen' 'fifteen' 'sixteen']\n"
     ]
    }
   ],
   "source": [
    "for col in df.columns:\n",
    "    print(col, ': ', df[col].unique())"
   ]
  },
  {
   "cell_type": "markdown",
   "id": "e747d2bc",
   "metadata": {},
   "source": [
    "There are no abnormal values in any columns"
   ]
  },
  {
   "cell_type": "markdown",
   "id": "01a142b5",
   "metadata": {},
   "source": [
    "# Plotting Graph for Value Counts of Each Column"
   ]
  },
  {
   "cell_type": "code",
   "execution_count": 20,
   "id": "8fb84d6d",
   "metadata": {},
   "outputs": [
    {
     "data": {
      "image/png": "[encoded data removed]",
      "text/plain": [
       "<Figure size 432x288 with 1 Axes>"
      ]
     },
     "metadata": {
      "needs_background": "light"
     },
     "output_type": "display_data"
    },
    {
     "data": {
      "image/png": "[encoded data removed]",
      "text/plain": [
       "<Figure size 432x288 with 1 Axes>"
      ]
     },
     "metadata": {
      "needs_background": "light"
     },
     "output_type": "display_data"
    },
    {
     "data": {
      "image/png": "[encoded data removed]",
      "text/plain": [
       "<Figure size 432x288 with 1 Axes>"
      ]
     },
     "metadata": {
      "needs_background": "light"
     },
     "output_type": "display_data"
    },
    {
     "data": {
      "image/png": "[encoded data removed]",
      "text/plain": [
       "<Figure size 432x288 with 1 Axes>"
      ]
     },
     "metadata": {
      "needs_background": "light"
     },
     "output_type": "display_data"
    },
    {
     "data": {
      "image/png": "[encoded data removed]",
      "text/plain": [
       "<Figure size 432x288 with 1 Axes>"
      ]
     },
     "metadata": {
      "needs_background": "light"
     },
     "output_type": "display_data"
    },
    {
     "data": {
      "image/png": "[encoded data removed]",
      "text/plain": [
       "<Figure size 432x288 with 1 Axes>"
      ]
     },
     "metadata": {
      "needs_background": "light"
     },
     "output_type": "display_data"
    },
    {
     "data": {
      "image/png": "[encoded data removed]",
      "text/plain": [
       "<Figure size 432x288 with 1 Axes>"
      ]
     },
     "metadata": {
      "needs_background": "light"
     },
     "output_type": "display_data"
    }
   ],
   "source": [
    "for col in df.columns:\n",
    "    val_counts = df[col].value_counts()\n",
    "    ind = val_counts.index\n",
    "    val = val_counts.values\n",
    "    sns.barplot(x=ind, y=val)\n",
    "    plt.title(col)\n",
    "    plt.ylabel('Value Counts')\n",
    "    plt.xlabel('Values')\n",
    "    plt.xticks(rotation=90)\n",
    "    plt.show()"
   ]
  },
  {
   "cell_type": "markdown",
   "id": "760ed96d",
   "metadata": {},
   "source": [
    "# Encoding Target Variable"
   ]
  },
  {
   "cell_type": "code",
   "execution_count": 21,
   "id": "a0ad0bc9",
   "metadata": {},
   "outputs": [],
   "source": [
    "target_encoded = {\n",
    "    'draw': -1,\n",
    "    'sixteen' : 16,\n",
    "    'fifteen' : 15,\n",
    "    'fourteen' : 14,\n",
    "    'thirteen' : 13,\n",
    "    'twelve' : 12,\n",
    "    'eleven' : 11,\n",
    "    'ten' : 10,\n",
    "    'nine' : 9,\n",
    "    'eight' : 8,\n",
    "    'seven' : 7,\n",
    "    'six' : 6,\n",
    "    'five' : 5,\n",
    "    'four' : 4,\n",
    "    'three' : 3,\n",
    "    'two' : 2,\n",
    "    'one' : 1,\n",
    "    'zero' : 0\n",
    "}"
   ]
  },
  {
   "cell_type": "code",
   "execution_count": 23,
   "id": "c24fd8e2",
   "metadata": {},
   "outputs": [],
   "source": [
    "df['depth-of-win'].replace(target_encoded, inplace=True)\n",
    "df['depth-of-win'] = df['depth-of-win'].astype(np.int64)"
   ]
  },
  {
   "cell_type": "code",
   "execution_count": 24,
   "id": "73d9f9ab",
   "metadata": {},
   "outputs": [
    {
     "data": {
      "text/plain": [
       "array([-1,  0,  1,  2,  3,  4,  5,  6,  7,  8,  9, 10, 11, 12, 13, 14, 15,\n",
       "       16], dtype=int64)"
      ]
     },
     "execution_count": 24,
     "metadata": {},
     "output_type": "execute_result"
    }
   ],
   "source": [
    "df['depth-of-win'].unique()"
   ]
  },
  {
   "cell_type": "markdown",
   "id": "4a23b8bb",
   "metadata": {},
   "source": [
    "# Developing Model"
   ]
  },
  {
   "cell_type": "code",
   "execution_count": 25,
   "id": "d282a04b",
   "metadata": {},
   "outputs": [],
   "source": [
    "X = df.drop('depth-of-win', axis=1)\n",
    "y = df['depth-of-win']"
   ]
  },
  {
   "cell_type": "markdown",
   "id": "e97c983d",
   "metadata": {},
   "source": [
    "## Encoding the independent features"
   ]
  },
  {
   "cell_type": "code",
   "execution_count": null,
   "id": "8f70109f",
   "metadata": {},
   "outputs": [],
   "source": []
  }
 ],
 "metadata": {
  "kernelspec": {
   "display_name": "Python 3 (ipykernel)",
   "language": "python",
   "name": "python3"
  },
  "language_info": {
   "codemirror_mode": {
    "name": "ipython",
    "version": 3
   },
   "file_extension": ".py",
   "mimetype": "text/x-python",
   "name": "python",
   "nbconvert_exporter": "python",
   "pygments_lexer": "ipython3",
   "version": "3.9.12"
  }
 },
 "nbformat": 4,
 "nbformat_minor": 5
}
